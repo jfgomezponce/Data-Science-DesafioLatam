{
 "cells": [
  {
   "cell_type": "markdown",
   "metadata": {},
   "source": [
    "# Regresion"
   ]
  },
  {
   "cell_type": "markdown",
   "metadata": {},
   "source": [
    "En esta unidad aprenderemos sobre la regresión en su variante más general: __La Regresión Lineal.__<br>\n",
    "Emplearemos una base de datos sobre ingresos de una empresa y buscaremos los determinantes\n",
    "asociados a _mayores ingresos_.<br><br>\n",
    "La regresión responde a la pregunta <font color='red'>__¿Cómo el cambio de una variable afecta el valor de otra variable?__</font><br><br>\n",
    "La regresión es un método muy flexible asociado con las preguntas de asociación y causalidad de nuestros fenómenos por estudiar.<br>\n",
    "Para esta semana trabajaremos con __el caso más simple: la Regresión Lineal__. <br>\n",
    "Por __lineal__ hablamos del caso donde nuestra __variable objetivo (o dependiente) es contínua__ y __la relación entre esta y los atributos (o variables independientes) es mediante una combinación lineal de los últimos.__<br><br>\n",
    "La regresión permite generalizarse a múltiples casos, por lo que entender su caso canónico nos\n",
    "deja bien preparados para modelos más flexibles como los _Generalized Lineal Models_, modelos no paramétricos, multinivel, efectos fijos y Generalized Additive Models, por nombrar algunos.<br><br>\n",
    "Se dice __regresión lineal simple a aquella que tiene un regresor como atributo (o variable independiente)__. Más adelante hablaremos de la regresión lineal múltiple, aquella que tiene más de un regresor como atributo (o variable independiente).\n",
    "<br><br>\n",
    "__Variable Dependiente__: Objeto de estudio medido en una variable (condicional a valores de la variable independiente)<br>\n",
    "__Variable Independiente__: Posibles factores explicativos de la variable dependiente.<br>\n",
    "__Error__: Término residual asociado a lo no explicado por el modelo.<br>\n",
    "__Modelo__: Aproximación funcional a nuestro fenómeno.<br>\n",
    "__Coeficientes__: Componentes estimados del modelo que permiten aproximar características de los datos en la variable dependiente."
   ]
  },
  {
   "cell_type": "code",
   "execution_count": 12,
   "metadata": {},
   "outputs": [],
   "source": [
    "import pandas as pd\n",
    "import numpy as np\n",
    "import scipy.stats as stats\n",
    "import matplotlib.pyplot as plt\n",
    "import statsmodels.api as sm\n",
    "import statsmodels.formula.api as smf\n",
    "import seaborn as sns\n",
    "import warnings\n",
    "warnings.filterwarnings(\"ignore\", category=DeprecationWarning)\n",
    "\n",
    "import lec5_graphs as gfx\n",
    "\n",
    "plt.style.use('seaborn-whitegrid') # Gráficos estilo seaborn\n",
    "plt.rcParams[\"figure.figsize\"] = (6, 4) # Tamaño gráficos\n",
    "plt.rcParams[\"figure.dpi\"] = 300 # resolución gráficos"
   ]
  },
  {
   "cell_type": "code",
   "execution_count": 13,
   "metadata": {},
   "outputs": [
    {
     "data": {
      "text/plain": [
       "<seaborn.axisgrid.JointGrid at 0x101d522b0>"
      ]
     },
     "execution_count": 13,
     "metadata": {},
     "output_type": "execute_result"
    }
   ],
   "source": [
    "df = pd.read_csv('earnings.csv').drop('Unnamed: 0', axis=1)\n",
    "df.sample()\n",
    "sns.jointplot(df['height'],df['earn'], kind='reg', line_kws={'color':'tomato'})"
   ]
  },
  {
   "cell_type": "code",
   "execution_count": null,
   "metadata": {},
   "outputs": [],
   "source": []
  }
 ],
 "metadata": {
  "kernelspec": {
   "display_name": "Python 3",
   "language": "python",
   "name": "python3"
  },
  "language_info": {
   "codemirror_mode": {
    "name": "ipython",
    "version": 3
   },
   "file_extension": ".py",
   "mimetype": "text/x-python",
   "name": "python",
   "nbconvert_exporter": "python",
   "pygments_lexer": "ipython3",
   "version": "3.6.7"
  }
 },
 "nbformat": 4,
 "nbformat_minor": 2
}
