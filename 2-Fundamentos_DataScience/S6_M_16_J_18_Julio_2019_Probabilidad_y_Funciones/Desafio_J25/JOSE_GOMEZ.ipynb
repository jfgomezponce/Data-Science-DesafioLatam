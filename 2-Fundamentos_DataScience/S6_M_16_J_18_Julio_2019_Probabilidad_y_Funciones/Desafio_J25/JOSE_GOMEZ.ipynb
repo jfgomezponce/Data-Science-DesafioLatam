{
 "cells": [
  {
   "cell_type": "markdown",
   "metadata": {},
   "source": [
    "# Desafío - Funciones y probabilidad básica\n",
    "\n",
    "## Jose Gomez\n",
    "\n",
    "### DESAFIO 1"
   ]
  },
  {
   "cell_type": "code",
   "execution_count": 26,
   "metadata": {},
   "outputs": [],
   "source": [
    "import pandas as pd\n",
    "import numpy as np"
   ]
  },
  {
   "cell_type": "code",
   "execution_count": 2,
   "metadata": {},
   "outputs": [],
   "source": [
    "df = pd.read_csv('worldcup2014.csv')\n",
    "\n",
    "#serie = pd.Series([2,2,3,4,40])\n",
    "\n",
    "def media_serie(x):\n",
    "    \"\"\"\n",
    "    Funcion que calcula el promedio de los datos \n",
    "    entregados como argumento.\n",
    "    \n",
    "    Parametros: (x)\n",
    "    X debe ser tipo (Series)\n",
    "    \n",
    "    return: (int)\n",
    "    \"\"\"\n",
    "    suma = 0\n",
    "    for i in x:\n",
    "        suma += i\n",
    "    return(suma/len(x))\n",
    "\n",
    "def varianza_serie(x):\n",
    "    \"\"\"\n",
    "    Funcion que calcula la varianza de los datos\n",
    "    entregados como argumento.\n",
    "    Datos debe ser tipo Series\n",
    "    \n",
    "    Esta funcion calcula el promedio de los datos de la serie\n",
    "    utilizando la funcion \"media_serie\"\n",
    "    \n",
    "    Parametros: (x)\n",
    "    X debe ser tipo (Series)\n",
    "    \n",
    "    return: (int)\n",
    "    \"\"\"\n",
    "    promedio = media_serie(x)\n",
    "    \n",
    "    sumatoria = 0\n",
    "    for j in x:\n",
    "        tmp = (j - promedio)**2\n",
    "        sumatoria += tmp\n",
    "        \n",
    "    return(sumatoria/len(x))\n",
    "\n",
    "#print(media_serie(serie),varianza_serie(serie))\n"
   ]
  },
  {
   "cell_type": "markdown",
   "metadata": {},
   "source": [
    "#### Utilice las funciones para reportar la información sobre goles_favor , goles_contra, puntos"
   ]
  },
  {
   "cell_type": "code",
   "execution_count": 3,
   "metadata": {},
   "outputs": [
    {
     "name": "stdout",
     "output_type": "stream",
     "text": [
      "4.25 5.1875\n"
     ]
    }
   ],
   "source": [
    "##### Goles_favor #####\n",
    "\n",
    "print(media_serie(df['goles_favor']), varianza_serie(df['goles_favor']))"
   ]
  },
  {
   "cell_type": "code",
   "execution_count": 4,
   "metadata": {},
   "outputs": [
    {
     "name": "stdout",
     "output_type": "stream",
     "text": [
      "4.25 4.8125\n"
     ]
    }
   ],
   "source": [
    "##### Goles_contra #####\n",
    "\n",
    "print(media_serie(df['goles_contra']), varianza_serie(df['goles_contra']))"
   ]
  },
  {
   "cell_type": "code",
   "execution_count": 5,
   "metadata": {},
   "outputs": [
    {
     "name": "stdout",
     "output_type": "stream",
     "text": [
      "4.21875 8.0458984375\n"
     ]
    }
   ],
   "source": [
    "##### puntos #####\n",
    "\n",
    "print(media_serie(df['puntos']), varianza_serie(df['puntos']))"
   ]
  },
  {
   "cell_type": "markdown",
   "metadata": {},
   "source": [
    "## Desafío 2:"
   ]
  },
  {
   "cell_type": "code",
   "execution_count": 6,
   "metadata": {},
   "outputs": [
    {
     "data": {
      "text/html": [
       "<div>\n",
       "<style scoped>\n",
       "    .dataframe tbody tr th:only-of-type {\n",
       "        vertical-align: middle;\n",
       "    }\n",
       "\n",
       "    .dataframe tbody tr th {\n",
       "        vertical-align: top;\n",
       "    }\n",
       "\n",
       "    .dataframe thead th {\n",
       "        text-align: right;\n",
       "    }\n",
       "</style>\n",
       "<table border=\"1\" class=\"dataframe\">\n",
       "  <thead>\n",
       "    <tr style=\"text-align: right;\">\n",
       "      <th></th>\n",
       "      <th>team</th>\n",
       "      <th>continent</th>\n",
       "      <th>group</th>\n",
       "      <th>group_pos</th>\n",
       "      <th>cantidad_juegos</th>\n",
       "      <th>juegos_ganados</th>\n",
       "      <th>juegos_empatados</th>\n",
       "      <th>juegos_perdidos</th>\n",
       "      <th>goles_favor</th>\n",
       "      <th>goles_contra</th>\n",
       "      <th>goles_diferencia</th>\n",
       "      <th>puntos</th>\n",
       "      <th>clasificado</th>\n",
       "    </tr>\n",
       "  </thead>\n",
       "  <tbody>\n",
       "    <tr>\n",
       "      <th>0</th>\n",
       "      <td>Brazil</td>\n",
       "      <td>southamerica</td>\n",
       "      <td>A</td>\n",
       "      <td>1</td>\n",
       "      <td>3</td>\n",
       "      <td>2</td>\n",
       "      <td>1</td>\n",
       "      <td>0</td>\n",
       "      <td>7</td>\n",
       "      <td>2</td>\n",
       "      <td>5</td>\n",
       "      <td>7</td>\n",
       "      <td>1</td>\n",
       "    </tr>\n",
       "    <tr>\n",
       "      <th>1</th>\n",
       "      <td>Mexico</td>\n",
       "      <td>northamerica</td>\n",
       "      <td>A</td>\n",
       "      <td>2</td>\n",
       "      <td>3</td>\n",
       "      <td>2</td>\n",
       "      <td>1</td>\n",
       "      <td>0</td>\n",
       "      <td>4</td>\n",
       "      <td>1</td>\n",
       "      <td>3</td>\n",
       "      <td>7</td>\n",
       "      <td>1</td>\n",
       "    </tr>\n",
       "    <tr>\n",
       "      <th>2</th>\n",
       "      <td>Croatia</td>\n",
       "      <td>europe</td>\n",
       "      <td>A</td>\n",
       "      <td>3</td>\n",
       "      <td>3</td>\n",
       "      <td>1</td>\n",
       "      <td>0</td>\n",
       "      <td>2</td>\n",
       "      <td>6</td>\n",
       "      <td>6</td>\n",
       "      <td>0</td>\n",
       "      <td>3</td>\n",
       "      <td>0</td>\n",
       "    </tr>\n",
       "    <tr>\n",
       "      <th>3</th>\n",
       "      <td>Cameroon</td>\n",
       "      <td>africa</td>\n",
       "      <td>A</td>\n",
       "      <td>4</td>\n",
       "      <td>3</td>\n",
       "      <td>0</td>\n",
       "      <td>0</td>\n",
       "      <td>3</td>\n",
       "      <td>1</td>\n",
       "      <td>9</td>\n",
       "      <td>−8</td>\n",
       "      <td>0</td>\n",
       "      <td>0</td>\n",
       "    </tr>\n",
       "    <tr>\n",
       "      <th>4</th>\n",
       "      <td>Netherlands</td>\n",
       "      <td>europe</td>\n",
       "      <td>B</td>\n",
       "      <td>1</td>\n",
       "      <td>3</td>\n",
       "      <td>3</td>\n",
       "      <td>0</td>\n",
       "      <td>0</td>\n",
       "      <td>10</td>\n",
       "      <td>3</td>\n",
       "      <td>7</td>\n",
       "      <td>9</td>\n",
       "      <td>1</td>\n",
       "    </tr>\n",
       "  </tbody>\n",
       "</table>\n",
       "</div>"
      ],
      "text/plain": [
       "          team     continent group  group_pos  cantidad_juegos  \\\n",
       "0       Brazil  southamerica     A          1                3   \n",
       "1       Mexico  northamerica     A          2                3   \n",
       "2      Croatia        europe     A          3                3   \n",
       "3     Cameroon        africa     A          4                3   \n",
       "4  Netherlands        europe     B          1                3   \n",
       "\n",
       "   juegos_ganados  juegos_empatados  juegos_perdidos  goles_favor  \\\n",
       "0               2                 1                0            7   \n",
       "1               2                 1                0            4   \n",
       "2               1                 0                2            6   \n",
       "3               0                 0                3            1   \n",
       "4               3                 0                0           10   \n",
       "\n",
       "   goles_contra goles_diferencia  puntos  clasificado  \n",
       "0             2                5       7            1  \n",
       "1             1                3       7            1  \n",
       "2             6                0       3            0  \n",
       "3             9               −8       0            0  \n",
       "4             3                7       9            1  "
      ]
     },
     "execution_count": 6,
     "metadata": {},
     "output_type": "execute_result"
    }
   ],
   "source": [
    "\n",
    "df.head()"
   ]
  },
  {
   "cell_type": "markdown",
   "metadata": {},
   "source": [
    "#### A continuación se presenta el siguiente código para obtener la media y varianza de una variable para distintos continentes"
   ]
  },
  {
   "cell_type": "code",
   "execution_count": 7,
   "metadata": {},
   "outputs": [
    {
     "data": {
      "text/html": [
       "<div>\n",
       "<style scoped>\n",
       "    .dataframe tbody tr th:only-of-type {\n",
       "        vertical-align: middle;\n",
       "    }\n",
       "\n",
       "    .dataframe tbody tr th {\n",
       "        vertical-align: top;\n",
       "    }\n",
       "\n",
       "    .dataframe thead th {\n",
       "        text-align: right;\n",
       "    }\n",
       "</style>\n",
       "<table border=\"1\" class=\"dataframe\">\n",
       "  <thead>\n",
       "    <tr style=\"text-align: right;\">\n",
       "      <th></th>\n",
       "      <th>continente</th>\n",
       "      <th>media_goles</th>\n",
       "      <th>std_goles</th>\n",
       "    </tr>\n",
       "  </thead>\n",
       "  <tbody>\n",
       "    <tr>\n",
       "      <th>0</th>\n",
       "      <td>africa</td>\n",
       "      <td>3.600000</td>\n",
       "      <td>2.640000</td>\n",
       "    </tr>\n",
       "    <tr>\n",
       "      <th>1</th>\n",
       "      <td>europe</td>\n",
       "      <td>4.769231</td>\n",
       "      <td>6.331361</td>\n",
       "    </tr>\n",
       "    <tr>\n",
       "      <th>2</th>\n",
       "      <td>asia</td>\n",
       "      <td>2.250000</td>\n",
       "      <td>0.687500</td>\n",
       "    </tr>\n",
       "    <tr>\n",
       "      <th>3</th>\n",
       "      <td>northamerica</td>\n",
       "      <td>3.250000</td>\n",
       "      <td>1.687500</td>\n",
       "    </tr>\n",
       "    <tr>\n",
       "      <th>4</th>\n",
       "      <td>southamerica</td>\n",
       "      <td>5.666667</td>\n",
       "      <td>3.888889</td>\n",
       "    </tr>\n",
       "  </tbody>\n",
       "</table>\n",
       "</div>"
      ],
      "text/plain": [
       "     continente  media_goles  std_goles\n",
       "0        africa     3.600000   2.640000\n",
       "1        europe     4.769231   6.331361\n",
       "2          asia     2.250000   0.687500\n",
       "3  northamerica     3.250000   1.687500\n",
       "4  southamerica     5.666667   3.888889"
      ]
     },
     "execution_count": 7,
     "metadata": {},
     "output_type": "execute_result"
    }
   ],
   "source": [
    "continent = []\n",
    "store_mean = []\n",
    "store_std = []\n",
    "\n",
    "\n",
    "africa_df = df[df['continent'] == 'africa']\n",
    "europe_df = df[df['continent'] == 'europe']\n",
    "asia_df = df[df['continent'] == 'asia']\n",
    "northamerica_df = df[df['continent'] == 'northamerica']\n",
    "southamerica_df = df[df['continent'] == 'southamerica']\n",
    "\n",
    "for d in [africa_df, europe_df, asia_df, northamerica_df, southamerica_df]:\n",
    "    continent.append(d.iloc[0,1])\n",
    "    store_mean.append(media_serie(d['goles_favor']))\n",
    "    store_std.append(varianza_serie(d['goles_favor']))\n",
    "tmp = pd.DataFrame({'continente': continent, 'media_goles': store_mean, 'std_goles': store_std})\n",
    "\n",
    "tmp\n"
   ]
  },
  {
   "cell_type": "markdown",
   "metadata": {},
   "source": [
    "#### En base a la información disponible, genere una función con los argumentos group_by y var para ingresar una lista de submuestras y una variable a analizar, respectivamente."
   ]
  },
  {
   "cell_type": "code",
   "execution_count": 8,
   "metadata": {},
   "outputs": [],
   "source": [
    "store_sum_2 = []\n",
    "headers = []\n",
    "\n",
    "def funcion_desafio2(group_by,var):\n",
    "    \n",
    "    \n",
    "    # Suma todas las columnas del dataframe \"df\", calcula varianza y promedio\n",
    "    temp = df.groupby(by=group_by,as_index=False).sum()\n",
    "    temp_var = df.groupby(by=group_by,as_index=False).var()\n",
    "    temp_media = df.groupby(by=group_by,as_index=False).mean()\n",
    "    \n",
    "    # Crea una lista con los nombres de los continentes del dataframe agrupado (En el mismo orden reportado en temp)\n",
    "    continentes = temp.continent.values\n",
    "\n",
    "    \n",
    "    # Se crea un nuevo dataframe en base a temp, temp_var y temp_media usando sólo las columnas indicadas en el argumento \"var\" de la funcion\n",
    "    df2 = pd.DataFrame(temp, columns=var) \n",
    "    df3 = pd.DataFrame(temp_var, columns=var)\n",
    "    df4 = pd.DataFrame(temp_media, columns=var)\n",
    "    \n",
    "    \n",
    "    # Inserta en la posicion 0 la columna \"continent\", en base a los valores extraidos anteriormente\n",
    "    df2.insert(loc=0, column='continent', value=continentes)\n",
    "    \n",
    "    # Concateno todos los datos de la suma total, la varianza de los datos y los promedios\n",
    "    # equivalente para cada una de las columnas solicitadas\n",
    "    df5 = pd.concat([df2,df3,df4], sort=False, axis=1)\n",
    "    return df2, df3, df4, df5\n",
    "    \n",
    "    \n",
    "     \n"
   ]
  },
  {
   "cell_type": "code",
   "execution_count": 9,
   "metadata": {
    "scrolled": true
   },
   "outputs": [],
   "source": [
    "# suma, varianza, media, Concatenados(cantidad, varianza y media)\n",
    "\n",
    "temp2,temp3,temp4,temp5 = funcion_desafio2('continent',['goles_favor', 'goles_contra','puntos'])\n",
    "\n"
   ]
  },
  {
   "cell_type": "code",
   "execution_count": 10,
   "metadata": {},
   "outputs": [
    {
     "data": {
      "text/html": [
       "<div>\n",
       "<style scoped>\n",
       "    .dataframe tbody tr th:only-of-type {\n",
       "        vertical-align: middle;\n",
       "    }\n",
       "\n",
       "    .dataframe tbody tr th {\n",
       "        vertical-align: top;\n",
       "    }\n",
       "\n",
       "    .dataframe thead th {\n",
       "        text-align: right;\n",
       "    }\n",
       "</style>\n",
       "<table border=\"1\" class=\"dataframe\">\n",
       "  <thead>\n",
       "    <tr style=\"text-align: right;\">\n",
       "      <th></th>\n",
       "      <th>continent</th>\n",
       "      <th>goles_favor</th>\n",
       "      <th>goles_contra</th>\n",
       "      <th>puntos</th>\n",
       "      <th>goles_favor</th>\n",
       "      <th>goles_contra</th>\n",
       "      <th>puntos</th>\n",
       "      <th>goles_favor</th>\n",
       "      <th>goles_contra</th>\n",
       "      <th>puntos</th>\n",
       "    </tr>\n",
       "  </thead>\n",
       "  <tbody>\n",
       "    <tr>\n",
       "      <th>0</th>\n",
       "      <td>africa</td>\n",
       "      <td>18</td>\n",
       "      <td>28</td>\n",
       "      <td>12</td>\n",
       "      <td>3.300000</td>\n",
       "      <td>4.800000</td>\n",
       "      <td>3.300000</td>\n",
       "      <td>3.600000</td>\n",
       "      <td>5.600000</td>\n",
       "      <td>2.400000</td>\n",
       "    </tr>\n",
       "    <tr>\n",
       "      <th>1</th>\n",
       "      <td>asia</td>\n",
       "      <td>9</td>\n",
       "      <td>25</td>\n",
       "      <td>3</td>\n",
       "      <td>0.916667</td>\n",
       "      <td>4.250000</td>\n",
       "      <td>0.250000</td>\n",
       "      <td>2.250000</td>\n",
       "      <td>6.250000</td>\n",
       "      <td>0.750000</td>\n",
       "    </tr>\n",
       "    <tr>\n",
       "      <th>2</th>\n",
       "      <td>europe</td>\n",
       "      <td>62</td>\n",
       "      <td>52</td>\n",
       "      <td>61</td>\n",
       "      <td>6.858974</td>\n",
       "      <td>3.833333</td>\n",
       "      <td>6.897436</td>\n",
       "      <td>4.769231</td>\n",
       "      <td>4.000000</td>\n",
       "      <td>4.692308</td>\n",
       "    </tr>\n",
       "    <tr>\n",
       "      <th>3</th>\n",
       "      <td>northamerica</td>\n",
       "      <td>13</td>\n",
       "      <td>14</td>\n",
       "      <td>18</td>\n",
       "      <td>2.250000</td>\n",
       "      <td>11.000000</td>\n",
       "      <td>11.000000</td>\n",
       "      <td>3.250000</td>\n",
       "      <td>3.500000</td>\n",
       "      <td>4.500000</td>\n",
       "    </tr>\n",
       "    <tr>\n",
       "      <th>4</th>\n",
       "      <td>southamerica</td>\n",
       "      <td>34</td>\n",
       "      <td>17</td>\n",
       "      <td>41</td>\n",
       "      <td>4.666667</td>\n",
       "      <td>0.566667</td>\n",
       "      <td>3.766667</td>\n",
       "      <td>5.666667</td>\n",
       "      <td>2.833333</td>\n",
       "      <td>6.833333</td>\n",
       "    </tr>\n",
       "  </tbody>\n",
       "</table>\n",
       "</div>"
      ],
      "text/plain": [
       "      continent  goles_favor  goles_contra  puntos  goles_favor  goles_contra  \\\n",
       "0        africa           18            28      12     3.300000      4.800000   \n",
       "1          asia            9            25       3     0.916667      4.250000   \n",
       "2        europe           62            52      61     6.858974      3.833333   \n",
       "3  northamerica           13            14      18     2.250000     11.000000   \n",
       "4  southamerica           34            17      41     4.666667      0.566667   \n",
       "\n",
       "      puntos  goles_favor  goles_contra    puntos  \n",
       "0   3.300000     3.600000      5.600000  2.400000  \n",
       "1   0.250000     2.250000      6.250000  0.750000  \n",
       "2   6.897436     4.769231      4.000000  4.692308  \n",
       "3  11.000000     3.250000      3.500000  4.500000  \n",
       "4   3.766667     5.666667      2.833333  6.833333  "
      ]
     },
     "execution_count": 10,
     "metadata": {},
     "output_type": "execute_result"
    }
   ],
   "source": [
    "temp5 # Impresión de todo el dataframe que contiene todos los datos \n",
    "# No entendí muy bien si había que reportar la varianza y la media, por eso los agregué =)"
   ]
  },
  {
   "cell_type": "code",
   "execution_count": 11,
   "metadata": {},
   "outputs": [
    {
     "name": "stdout",
     "output_type": "stream",
     "text": [
      "El continente con la mayor cantidad de goles a favor es europe\n"
     ]
    }
   ],
   "source": [
    "#  qué continente se encuentra la mayor cantidad de goles a favor\n",
    "\n",
    "mas_goles = temp2[temp2['goles_favor'] == temp2['goles_favor'].max()]['continent'].values[0]\n",
    "print(\"El continente con la mayor cantidad de goles a favor es {}\".format(mas_goles))\n",
    "\n",
    "# EUROPA"
   ]
  },
  {
   "cell_type": "code",
   "execution_count": 12,
   "metadata": {},
   "outputs": [
    {
     "name": "stdout",
     "output_type": "stream",
     "text": [
      "El continente con la mayor cantidad de goles en contra es europe\n"
     ]
    }
   ],
   "source": [
    "#  qué continente se encuentra la mayor cantidad de goles en contra\n",
    "\n",
    "mas_goles_contra = temp2[temp2['goles_contra'] == temp2['goles_contra'].max()]['continent'].values[0]\n",
    "print(\"El continente con la mayor cantidad de goles en contra es\",mas_goles_contra)\n",
    "\n",
    "# EUROPA"
   ]
  },
  {
   "cell_type": "code",
   "execution_count": 13,
   "metadata": {},
   "outputs": [
    {
     "name": "stdout",
     "output_type": "stream",
     "text": [
      "El continente con la mayor cantidad de goles en contra es europe\n"
     ]
    }
   ],
   "source": [
    "#  qué continente se encuentra la mayor cantidad de puntos\n",
    "\n",
    "mas_puntos = temp2[temp2['puntos'] == temp2['puntos'].max()]['continent'].values[0]\n",
    "print(\"El continente con la mayor cantidad de goles en contra es\",mas_puntos)\n",
    "\n",
    "# EUROPA"
   ]
  },
  {
   "cell_type": "markdown",
   "metadata": {},
   "source": [
    "### Desafío 3: Simulaciones"
   ]
  },
  {
   "cell_type": "code",
   "execution_count": 14,
   "metadata": {},
   "outputs": [],
   "source": [
    "animales = ['gato','perro']\n",
    "\n",
    "def generate_pet(animales):\n",
    "    \n",
    "    animal = np.random.choice(animales)\n",
    "    return animal"
   ]
  },
  {
   "cell_type": "code",
   "execution_count": 15,
   "metadata": {},
   "outputs": [
    {
     "data": {
      "text/plain": [
       "'perro'"
      ]
     },
     "execution_count": 15,
     "metadata": {},
     "output_type": "execute_result"
    }
   ],
   "source": [
    "generate_pet(animales)"
   ]
  },
  {
   "cell_type": "code",
   "execution_count": 16,
   "metadata": {},
   "outputs": [],
   "source": [
    "lista_result = []\n",
    "for i in range(20):\n",
    "    lista_result.append(generate_pet(animales))\n",
    "    \n",
    "lista_result\n",
    "resultado = pd.DataFrame({'animal':lista_result})"
   ]
  },
  {
   "cell_type": "code",
   "execution_count": 17,
   "metadata": {},
   "outputs": [
    {
     "data": {
      "text/plain": [
       "gato     0.6\n",
       "perro    0.4\n",
       "Name: animal, dtype: float64"
      ]
     },
     "execution_count": 17,
     "metadata": {},
     "output_type": "execute_result"
    }
   ],
   "source": [
    "resultado['animal'].value_counts('%')"
   ]
  },
  {
   "cell_type": "code",
   "execution_count": 18,
   "metadata": {},
   "outputs": [
    {
     "name": "stdout",
     "output_type": "stream",
     "text": [
      "probabilidad de gato es 0.6 % \n",
      "probabilidad de perro es 0.4 % \n"
     ]
    }
   ],
   "source": [
    "for i in range(len(animales)):\n",
    "    print(\"probabilidad de {} es {} % \". format(animales[i],(lista_result.count(animales[i]))/len(lista_result)))\n",
    "    \n",
    "    "
   ]
  },
  {
   "cell_type": "markdown",
   "metadata": {},
   "source": [
    "### Agrege np.random.seed(2) al inicio del chunk. ¿Qué hace éste método en la simulación?\n",
    "\n",
    "\n"
   ]
  },
  {
   "cell_type": "markdown",
   "metadata": {},
   "source": [
    "##### Obliga a random a utilizar un valor de la lista generada. Le quita el carácter aleatorio y crea un numero pseudo-aleatorio con el cual utiliza un valor constante."
   ]
  },
  {
   "cell_type": "code",
   "execution_count": 19,
   "metadata": {},
   "outputs": [
    {
     "data": {
      "text/plain": [
       "['perro',\n",
       " 'gato',\n",
       " 'gato',\n",
       " 'perro',\n",
       " 'perro',\n",
       " 'gato',\n",
       " 'perro',\n",
       " 'gato',\n",
       " 'perro',\n",
       " 'gato',\n",
       " 'perro',\n",
       " 'gato',\n",
       " 'gato',\n",
       " 'gato',\n",
       " 'gato',\n",
       " 'gato',\n",
       " 'gato',\n",
       " 'gato',\n",
       " 'perro',\n",
       " 'perro']"
      ]
     },
     "execution_count": 19,
     "metadata": {},
     "output_type": "execute_result"
    }
   ],
   "source": [
    "np.random.seed(2)\n",
    "\n",
    "animales = ['perro','gato']\n",
    "\n",
    "def generate_pet_2(animales):\n",
    "    animal = np.random.choice(animales)\n",
    "    return animal\n",
    "\n",
    "lista_result_2 = []\n",
    "for i in range(20):\n",
    "    lista_result_2.append(generate_pet_2(animales))\n",
    "    \n",
    "lista_result_2"
   ]
  },
  {
   "cell_type": "markdown",
   "metadata": {},
   "source": [
    "#### La probabilidad siempre será la misma"
   ]
  },
  {
   "cell_type": "code",
   "execution_count": 20,
   "metadata": {},
   "outputs": [
    {
     "name": "stdout",
     "output_type": "stream",
     "text": [
      "probabilidad de perro es 0.4 % \n",
      "probabilidad de gato es 0.6 % \n"
     ]
    }
   ],
   "source": [
    "for i in range(len(animales)):\n",
    "    print(\"probabilidad de {} es {} % \". format(animales[i],(lista_result_2.count(animales[i]))/len(lista_result_2)))\n",
    "    \n",
    "    "
   ]
  },
  {
   "cell_type": "markdown",
   "metadata": {},
   "source": [
    "## Desafío 4: Función simuladora"
   ]
  },
  {
   "cell_type": "code",
   "execution_count": 21,
   "metadata": {},
   "outputs": [],
   "source": [
    "\n",
    "\n",
    "def simulate_pets_prob(simulaciones):\n",
    "    np.random.seed(1)\n",
    "\n",
    "    ## Listas que contendrán el resultado de la funcion \"generate_pet\"\n",
    "    # Se crean adentro para contar desde cero cada vez que se ejecute la función\n",
    "    young_pet = []\n",
    "    old_pet = []\n",
    "    \n",
    "    #############################################\n",
    "    # Comienzo de las iteraciones de la funcion #\n",
    "    \n",
    "    for i in range(simulaciones):\n",
    "\n",
    "        young_pet.append(generate_pet(animales))\n",
    "        old_pet.append(generate_pet(animales))\n",
    "        \n",
    "    #    print (young_pet,old_pet)\n",
    "    df_simulaciones = pd.DataFrame(data = {'young':young_pet,'old':old_pet})\n",
    "    \n",
    "    ############################################\n",
    "    #       Conteo de los resultados           #\n",
    "    ############################################\n",
    "    \n",
    "    # De los dos animales simulados, contar las ocasiones donde \n",
    "    # por lo menos uno de los animales sea un perro.\n",
    "\n",
    "    df_simulaciones['1_sea_perro'] = np.where((df_simulaciones['young'] == 'perro') | (df_simulaciones['old'] == 'perro'), 1, 0)\n",
    "    \n",
    "    # De los dos animales simulados, contar las ocasiones donde \n",
    "    # por lo menos uno sea un perro viejo.\n",
    "\n",
    "    df_simulaciones['perro_old'] = np.where(df_simulaciones['old'] == 'perro', 1, 0)\n",
    "    \n",
    "    # De los dos animales simulados, contar las ocasiones donde\n",
    "    # los dos sean perros \n",
    "    \n",
    "    df_simulaciones['ambos_perro'] = np.where((df_simulaciones['young'] == 'perro') & (df_simulaciones['old'] == 'perro'), 1, 0)\n",
    "    return df_simulaciones\n",
    "    \n",
    "    \n",
    "    \n",
    "    "
   ]
  },
  {
   "cell_type": "code",
   "execution_count": 22,
   "metadata": {},
   "outputs": [],
   "source": [
    "df_results = simulate_pets_prob(6)\n",
    "#df_results"
   ]
  },
  {
   "cell_type": "code",
   "execution_count": 23,
   "metadata": {},
   "outputs": [
    {
     "name": "stdout",
     "output_type": "stream",
     "text": [
      "Probabilidad de que al menos 1 sea perro: 0.5\n"
     ]
    }
   ],
   "source": [
    "# Entregará el valor del indice correspondiente a \"1\", ya que eso indica que si se cumple la condición.\n",
    "wouf1 = [df_results['1_sea_perro'].value_counts(\"%\").values[i] for i in range(len(df_results['perro_old'].value_counts('%').index)) if df_results['1_sea_perro'].value_counts(\"%\").index[i] == 1   ]\n",
    "\n",
    "if not wouf1:\n",
    "    wouf1 = 0\n",
    "    \n",
    "print(f'Probabilidad de que al menos 1 sea perro: {str(wouf1).strip(\"[]\")}')"
   ]
  },
  {
   "cell_type": "code",
   "execution_count": 24,
   "metadata": {},
   "outputs": [
    {
     "name": "stdout",
     "output_type": "stream",
     "text": [
      "Probabilidad de que al menos 1 sea un perro viejo: 0.3333333333333333\n"
     ]
    }
   ],
   "source": [
    "wouf2 = [df_results['perro_old'].value_counts('%').values[i] for i in range(len(df_results['perro_old'].value_counts('%').index)) if df_results['perro_old'].value_counts('%').index[i] == 1]\n",
    "\n",
    "if not wouf2:\n",
    "    wouf2 = 0\n",
    "\n",
    "print(f'Probabilidad de que al menos 1 sea un perro viejo: {str(wouf2).strip(\"[]\")}')"
   ]
  },
  {
   "cell_type": "code",
   "execution_count": 25,
   "metadata": {},
   "outputs": [
    {
     "name": "stdout",
     "output_type": "stream",
     "text": [
      "Probabilidad de que los dos sean perros: 0.16666666666666666\n"
     ]
    }
   ],
   "source": [
    "wouf3 = [df_results['ambos_perro'].value_counts('%').values[i] for i in range(len(df_results['ambos_perro'].value_counts('%').index)) if df_results['ambos_perro'].value_counts('%').index[i] == 1]\n",
    "\n",
    "if not wouf3:\n",
    "    wouf3 = 0\n",
    "\n",
    "print(f'Probabilidad de que los dos sean perros: {str(wouf3).strip(\"[]\")}')"
   ]
  },
  {
   "cell_type": "markdown",
   "metadata": {},
   "source": [
    "# Resultados DESAFIO 4"
   ]
  },
  {
   "cell_type": "markdown",
   "metadata": {},
   "source": [
    "### - Hasta la 4ta iteración, las probabilidades son identicas para los 3 casos.\n",
    "### - En la 5ta iteración, la probabilidad de que \"ambos sean perros\" disminuyó a 0.2 (20%), y los otros 2 casos mantienen su igualdad (0.4 para ambos).\n",
    "### - En la 6ta iteración en adelante, la probabilidad mayor corresponde a \"al menos 1 sea perro\", seguida de \"1 sea un perro viejo\" y finalmente, la probabilidad más baja equivale a \"que ambos sean perros\". Esto se mantiene (se probó hasta 10000 iteraciones)"
   ]
  },
  {
   "cell_type": "markdown",
   "metadata": {},
   "source": [
    "# Discusión"
   ]
  },
  {
   "cell_type": "markdown",
   "metadata": {},
   "source": [
    "#### ¿Cuál es el menos probable? \n",
    "\"Ambos sean perros\"\n",
    "#### ¿Cuál es el más probable? \n",
    "\"Al menos 1 de ellos sea perro\""
   ]
  },
  {
   "cell_type": "code",
   "execution_count": null,
   "metadata": {},
   "outputs": [],
   "source": []
  }
 ],
 "metadata": {
  "kernelspec": {
   "display_name": "Python 3",
   "language": "python",
   "name": "python3"
  },
  "language_info": {
   "codemirror_mode": {
    "name": "ipython",
    "version": 3
   },
   "file_extension": ".py",
   "mimetype": "text/x-python",
   "name": "python",
   "nbconvert_exporter": "python",
   "pygments_lexer": "ipython3",
   "version": "3.6.7"
  }
 },
 "nbformat": 4,
 "nbformat_minor": 2
}
