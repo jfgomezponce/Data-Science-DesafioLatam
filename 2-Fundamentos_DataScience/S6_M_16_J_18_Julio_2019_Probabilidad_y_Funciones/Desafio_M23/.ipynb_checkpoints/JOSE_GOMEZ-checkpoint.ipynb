{
 "cells": [
  {
   "cell_type": "markdown",
   "metadata": {},
   "source": [
    "# Desafío - Calculando probabilidades\n",
    "\n",
    "## José Gómez\n",
    "\n",
    "### Desafío 1: Lectura de archivos"
   ]
  },
  {
   "cell_type": "code",
   "execution_count": 1,
   "metadata": {},
   "outputs": [
    {
     "data": {
      "text/html": [
       "<div>\n",
       "<style scoped>\n",
       "    .dataframe tbody tr th:only-of-type {\n",
       "        vertical-align: middle;\n",
       "    }\n",
       "\n",
       "    .dataframe tbody tr th {\n",
       "        vertical-align: top;\n",
       "    }\n",
       "\n",
       "    .dataframe thead th {\n",
       "        text-align: right;\n",
       "    }\n",
       "</style>\n",
       "<table border=\"1\" class=\"dataframe\">\n",
       "  <thead>\n",
       "    <tr style=\"text-align: right;\">\n",
       "      <th></th>\n",
       "      <th>team</th>\n",
       "      <th>continent</th>\n",
       "      <th>group</th>\n",
       "      <th>group_pos</th>\n",
       "      <th>cantidad_juegos</th>\n",
       "      <th>juegos_ganados</th>\n",
       "      <th>juegos_empatados</th>\n",
       "      <th>juegos_perdidos</th>\n",
       "      <th>goles_favor</th>\n",
       "      <th>goles_contra</th>\n",
       "      <th>goles_diferencia</th>\n",
       "      <th>puntos</th>\n",
       "      <th>clasificado</th>\n",
       "    </tr>\n",
       "  </thead>\n",
       "  <tbody>\n",
       "    <tr>\n",
       "      <th>0</th>\n",
       "      <td>Brazil</td>\n",
       "      <td>southamerica</td>\n",
       "      <td>A</td>\n",
       "      <td>1</td>\n",
       "      <td>3</td>\n",
       "      <td>2</td>\n",
       "      <td>1</td>\n",
       "      <td>0</td>\n",
       "      <td>7</td>\n",
       "      <td>2</td>\n",
       "      <td>5</td>\n",
       "      <td>7</td>\n",
       "      <td>1</td>\n",
       "    </tr>\n",
       "    <tr>\n",
       "      <th>1</th>\n",
       "      <td>Mexico</td>\n",
       "      <td>northamerica</td>\n",
       "      <td>A</td>\n",
       "      <td>2</td>\n",
       "      <td>3</td>\n",
       "      <td>2</td>\n",
       "      <td>1</td>\n",
       "      <td>0</td>\n",
       "      <td>4</td>\n",
       "      <td>1</td>\n",
       "      <td>3</td>\n",
       "      <td>7</td>\n",
       "      <td>1</td>\n",
       "    </tr>\n",
       "    <tr>\n",
       "      <th>2</th>\n",
       "      <td>Croatia</td>\n",
       "      <td>europe</td>\n",
       "      <td>A</td>\n",
       "      <td>3</td>\n",
       "      <td>3</td>\n",
       "      <td>1</td>\n",
       "      <td>0</td>\n",
       "      <td>2</td>\n",
       "      <td>6</td>\n",
       "      <td>6</td>\n",
       "      <td>0</td>\n",
       "      <td>3</td>\n",
       "      <td>0</td>\n",
       "    </tr>\n",
       "    <tr>\n",
       "      <th>3</th>\n",
       "      <td>Cameroon</td>\n",
       "      <td>africa</td>\n",
       "      <td>A</td>\n",
       "      <td>4</td>\n",
       "      <td>3</td>\n",
       "      <td>0</td>\n",
       "      <td>0</td>\n",
       "      <td>3</td>\n",
       "      <td>1</td>\n",
       "      <td>9</td>\n",
       "      <td>−8</td>\n",
       "      <td>0</td>\n",
       "      <td>0</td>\n",
       "    </tr>\n",
       "    <tr>\n",
       "      <th>4</th>\n",
       "      <td>Netherlands</td>\n",
       "      <td>europe</td>\n",
       "      <td>B</td>\n",
       "      <td>1</td>\n",
       "      <td>3</td>\n",
       "      <td>3</td>\n",
       "      <td>0</td>\n",
       "      <td>0</td>\n",
       "      <td>10</td>\n",
       "      <td>3</td>\n",
       "      <td>7</td>\n",
       "      <td>9</td>\n",
       "      <td>1</td>\n",
       "    </tr>\n",
       "  </tbody>\n",
       "</table>\n",
       "</div>"
      ],
      "text/plain": [
       "          team     continent group  group_pos  cantidad_juegos  \\\n",
       "0       Brazil  southamerica     A          1                3   \n",
       "1       Mexico  northamerica     A          2                3   \n",
       "2      Croatia        europe     A          3                3   \n",
       "3     Cameroon        africa     A          4                3   \n",
       "4  Netherlands        europe     B          1                3   \n",
       "\n",
       "   juegos_ganados  juegos_empatados  juegos_perdidos  goles_favor  \\\n",
       "0               2                 1                0            7   \n",
       "1               2                 1                0            4   \n",
       "2               1                 0                2            6   \n",
       "3               0                 0                3            1   \n",
       "4               3                 0                0           10   \n",
       "\n",
       "   goles_contra goles_diferencia  puntos  clasificado  \n",
       "0             2                5       7            1  \n",
       "1             1                3       7            1  \n",
       "2             6                0       3            0  \n",
       "3             9               −8       0            0  \n",
       "4             3                7       9            1  "
      ]
     },
     "execution_count": 1,
     "metadata": {},
     "output_type": "execute_result"
    }
   ],
   "source": [
    "#Importe pandas y numpy siguiendo las convenciones.\n",
    "#Lea la base de datos worldcup2014.csv y asígnela a un objeto df .\n",
    "#Solicite las primeras 5 observaciones con head\n",
    "import pandas as pd\n",
    "import numpy as np\n",
    "\n",
    "df = pd.read_csv('worldcup2014.csv')\n",
    "df.head(5)"
   ]
  },
  {
   "cell_type": "code",
   "execution_count": 2,
   "metadata": {},
   "outputs": [
    {
     "data": {
      "text/plain": [
       "europe          13\n",
       "southamerica     6\n",
       "africa           5\n",
       "asia             4\n",
       "northamerica     4\n",
       "Name: continent, dtype: int64"
      ]
     },
     "execution_count": 2,
     "metadata": {},
     "output_type": "execute_result"
    }
   ],
   "source": [
    "df['continent'].value_counts()"
   ]
  },
  {
   "cell_type": "markdown",
   "metadata": {},
   "source": [
    "## Desafío 2: Estime las frecuencias de continent"
   ]
  },
  {
   "cell_type": "code",
   "execution_count": 3,
   "metadata": {},
   "outputs": [
    {
     "data": {
      "text/plain": [
       "'europe'"
      ]
     },
     "execution_count": 3,
     "metadata": {},
     "output_type": "execute_result"
    }
   ],
   "source": [
    "# ¿Cuál es el continente con una mayor presencia en la muestra?\n",
    "df['continent'].value_counts().idxmax()"
   ]
  },
  {
   "cell_type": "code",
   "execution_count": 4,
   "metadata": {},
   "outputs": [
    {
     "name": "stdout",
     "output_type": "stream",
     "text": [
      "hay un 12.5% de probabilidad de que sea asiatico\n"
     ]
    }
   ],
   "source": [
    "# ¿Cuál es la probabilidad de elegir un equipo asiático al azar?\n",
    "var =df['continent'].value_counts()/len(df)\n",
    "var[3]\n",
    "print(\"hay un {}% de probabilidad de que sea asiatico\".format(var[3]*100))"
   ]
  },
  {
   "cell_type": "code",
   "execution_count": 5,
   "metadata": {},
   "outputs": [
    {
     "name": "stdout",
     "output_type": "stream",
     "text": [
      "hay un 15.625% de probabilidad de que sea asiatico\n"
     ]
    }
   ],
   "source": [
    "# ¿Cuál es la probabilidad de elegir un equipo africano al azar?\n",
    "print(\"hay un {}% de probabilidad de que sea asiatico\".format(var[2]*100))"
   ]
  },
  {
   "cell_type": "markdown",
   "metadata": {},
   "source": [
    "## Desafío 3: Probabilidades por continente"
   ]
  },
  {
   "cell_type": "code",
   "execution_count": 6,
   "metadata": {},
   "outputs": [],
   "source": [
    "# Por cada continente, genere un nuevo objeto que almacene sólo las observaciones \n",
    "# del continente\n",
    "\n",
    "obj_europa = df[df['continent'] == 'europe']\n",
    "obj_s_america = df[df['continent'] == 'southamerica']\n",
    "obj_africa = df[df['continent'] == 'africa']\n",
    "obj_asia = df[df['continent'] == 'asia']\n",
    "obj_n_america = df[df['continent'] == 'northamerica']"
   ]
  },
  {
   "cell_type": "code",
   "execution_count": 7,
   "metadata": {},
   "outputs": [
    {
     "data": {
      "text/plain": [
       "0    7\n",
       "1    6\n",
       "Name: clasificado, dtype: int64"
      ]
     },
     "execution_count": 7,
     "metadata": {},
     "output_type": "execute_result"
    }
   ],
   "source": [
    "df[df['continent']=='europe']['clasificado'].value_counts()"
   ]
  },
  {
   "cell_type": "code",
   "execution_count": 8,
   "metadata": {},
   "outputs": [
    {
     "data": {
      "text/plain": [
       "Int64Index([0, 1], dtype='int64')"
      ]
     },
     "execution_count": 8,
     "metadata": {},
     "output_type": "execute_result"
    }
   ],
   "source": [
    "df[df['continent']=='europe']['clasificado'].value_counts().index"
   ]
  },
  {
   "cell_type": "code",
   "execution_count": 9,
   "metadata": {},
   "outputs": [
    {
     "data": {
      "text/plain": [
       "array([7, 6])"
      ]
     },
     "execution_count": 9,
     "metadata": {},
     "output_type": "execute_result"
    }
   ],
   "source": [
    "df[df['continent']=='europe']['clasificado'].value_counts().values"
   ]
  },
  {
   "cell_type": "code",
   "execution_count": 10,
   "metadata": {},
   "outputs": [
    {
     "data": {
      "text/plain": [
       "0    0.538462\n",
       "1    0.461538\n",
       "Name: clasificado, dtype: float64"
      ]
     },
     "execution_count": 10,
     "metadata": {},
     "output_type": "execute_result"
    }
   ],
   "source": [
    "df[df['continent']=='europe']['clasificado'].value_counts('%')"
   ]
  },
  {
   "cell_type": "code",
   "execution_count": 11,
   "metadata": {},
   "outputs": [
    {
     "name": "stdout",
     "output_type": "stream",
     "text": [
      "0.5384615384615384\n"
     ]
    }
   ],
   "source": [
    "if df[df['continent']=='europe']['clasificado'].value_counts().index[0]== 0:\n",
    "    print(df[df['continent']=='europe']['clasificado'].value_counts('%').values[0])"
   ]
  },
  {
   "cell_type": "markdown",
   "metadata": {},
   "source": [
    "## Desafío 4: Calcule la probabilidad de clasificación a la siguiente ronda"
   ]
  },
  {
   "cell_type": "code",
   "execution_count": 43,
   "metadata": {},
   "outputs": [
    {
     "name": "stdout",
     "output_type": "stream",
     "text": [
      "europe tiene 18.75 % de clasificar\n",
      "southamerica tiene 15.625 % de clasificar\n",
      "africa tiene 6.25 % de clasificar\n",
      "asia tiene 0 % de clasificar\n",
      "northamerica tiene 9.375 % de clasificar\n"
     ]
    }
   ],
   "source": [
    "\n",
    "solo_probb = []\n",
    "\n",
    "lista_no_clasificar = []\n",
    "\n",
    "for i in np.array(df['continent'].value_counts().index):\n",
    "    \n",
    "    for j in range(len(df[df['continent'] == i ]['clasificado'].value_counts().index)):\n",
    "        if (len(df[df['continent'] == i ]['clasificado'].value_counts().index) == 1) & (df[df['continent'] == i ]['clasificado'].value_counts().index[j] == 0):\n",
    "            print(\"%s tiene 0 %% de clasificar\" % (i))\n",
    "            \n",
    "            #lista_probb.append([i,0])\n",
    "            solo_probb.append(0)\n",
    "            lista_no_clasificar.append(0)\n",
    "            \n",
    "            \n",
    "        if df[df['continent'] == i ]['clasificado'].value_counts().index[j]== 1:\n",
    "            print(\"%s tiene %s %% de clasificar\" % (i, df[df['continent'] == i]['clasificado'].value_counts().values[j]/float(len(df))*100))\n",
    "            #print(df[df['continent'] == i]['clasificado'].value_counts().values[j]/float(len(df))*100)\n",
    "            \n",
    "            \n",
    "            solo_probb.append(df[df['continent'] == i]['clasificado'].value_counts().values[j])\n",
    "\n",
    "            \n",
    "        elif df[df['continent'] == i ]['clasificado'].value_counts().index[j]== 0:\n",
    "            lista_no_clasificar.append(df[df['continent'] == i]['clasificado'].value_counts().values[j]/float(len(df))*100)\n",
    "            \n",
    "            \n",
    "            \n",
    "            \n",
    "            \n",
    "            "
   ]
  },
  {
   "cell_type": "markdown",
   "metadata": {},
   "source": [
    "##  AQUI LO HICE ITERANDO LOS DATA FRAME ##"
   ]
  },
  {
   "cell_type": "markdown",
   "metadata": {},
   "source": [
    "#### TECNICAMENTE ES SIMILAR AL ANTERIOR LOOP"
   ]
  },
  {
   "cell_type": "code",
   "execution_count": 46,
   "metadata": {},
   "outputs": [
    {
     "name": "stdout",
     "output_type": "stream",
     "text": [
      "europe tiene 18.75 % de clasificar\n",
      "africa tiene 6.25 % de clasificar\n",
      "asia tiene 0 % de clasificar\n",
      "northamerica tiene 9.375 % de clasificar\n",
      "southamerica tiene 15.625 % de clasificar\n"
     ]
    }
   ],
   "source": [
    "\n",
    "\n",
    "\n",
    "solo_probb_2 = []\n",
    "\n",
    "lista_no_clasificar_2 = []\n",
    "\n",
    "\n",
    "for k in [obj_europa, obj_africa, obj_asia, obj_n_america, obj_s_america]:\n",
    "    for j in range(len(k['clasificado'].value_counts().index)):\n",
    "        if (len(k['clasificado'].value_counts().index) == 1) & (k['clasificado'].value_counts().index[j] == 0):\n",
    "            print(\"%s tiene 0 %% de clasificar\" % (k['continent'].value_counts().index[0]))\n",
    "            \n",
    "            solo_probb_2.append(0)\n",
    "            lista_no_clasificar_2.append(0)\n",
    "            \n",
    "            \n",
    "        if k['clasificado'].value_counts().index[j]== 1:\n",
    "            print(\"%s tiene %s %% de clasificar\" % (k['continent'].value_counts().index[0],k['clasificado'].value_counts().values[j]/float(len(df))*100))\n",
    "            \n",
    "            solo_probb_2.append(k['clasificado'].value_counts().values[j]/float(len(df))*100)\n",
    "        \n",
    "        elif k['clasificado'].value_counts().index[j]== 0:\n",
    "            lista_no_clasificar_2.append(k['clasificado'].value_counts().values[j]/float(len(df))*100)\n",
    "    \n",
    "    \n",
    "    \n"
   ]
  },
  {
   "cell_type": "code",
   "execution_count": 14,
   "metadata": {},
   "outputs": [
    {
     "name": "stdout",
     "output_type": "stream",
     "text": [
      "probabilidad de que un pais asiatico pase: 0\n"
     ]
    }
   ],
   "source": [
    "# ¿Cuál fue la probabilidad de que un país asiático \n",
    "# pase a la siguiente ronda?\n",
    "lista_cont = list(df['continent'].value_counts().index)\n",
    "indice = lista_cont.index(\"asia\")\n",
    "\n",
    "print(\"probabilidad de que un pais asiatico pase: %s\" % (solo_probb[indice]) )\n",
    "\n"
   ]
  },
  {
   "cell_type": "code",
   "execution_count": 15,
   "metadata": {},
   "outputs": [
    {
     "name": "stdout",
     "output_type": "stream",
     "text": [
      "probabilidad de que un pais europeo NO pase: 0.5384615384615384\n"
     ]
    }
   ],
   "source": [
    "# ¿Cuáles fueron los dos continentes que tuvieron \n",
    "# la mayor probabilidad de clasificar?\n",
    "\n",
    "indice2 = lista_cont.index(\"europe\")\n",
    "\n",
    "print(\"probabilidad de que un pais europeo NO pase: %s\" % (lista_no_clasificar[indice2]) )\n"
   ]
  },
  {
   "cell_type": "markdown",
   "metadata": {},
   "source": [
    "## Desafío 5: Refactorización"
   ]
  },
  {
   "cell_type": "code",
   "execution_count": 47,
   "metadata": {},
   "outputs": [
    {
     "name": "stdout",
     "output_type": "stream",
     "text": [
      "1    0.6\n",
      "0    0.4\n",
      "Name: juegos_ganados, dtype: float64\n",
      "1    0.461538\n",
      "2    0.230769\n",
      "3    0.153846\n",
      "0    0.153846\n",
      "Name: juegos_ganados, dtype: float64\n",
      "0    1.0\n",
      "Name: juegos_ganados, dtype: float64\n",
      "2    0.50\n",
      "1    0.25\n",
      "0    0.25\n",
      "Name: juegos_ganados, dtype: float64\n",
      "2    0.500000\n",
      "3    0.333333\n",
      "1    0.166667\n",
      "Name: juegos_ganados, dtype: float64\n"
     ]
    }
   ],
   "source": [
    "europe_df = obj_europa\n",
    "southamerica_df = obj_s_america\n",
    "africa_df = obj_africa\n",
    "asia_df = obj_asia\n",
    "northamerica_df = obj_n_america\n",
    "\n",
    "for d in [africa_df, europe_df, asia_df, northamerica_df, southamerica_df]:\n",
    "    print(d['juegos_ganados'].value_counts('%'))\n",
    "    \n",
    "    "
   ]
  },
  {
   "cell_type": "code",
   "execution_count": 17,
   "metadata": {},
   "outputs": [
    {
     "name": "stderr",
     "output_type": "stream",
     "text": [
      "/anaconda2/lib/python2.7/site-packages/ipykernel_launcher.py:1: SettingWithCopyWarning: \n",
      "A value is trying to be set on a copy of a slice from a DataFrame.\n",
      "Try using .loc[row_indexer,col_indexer] = value instead\n",
      "\n",
      "See the caveats in the documentation: http://pandas.pydata.org/pandas-docs/stable/indexing.html#indexing-view-versus-copy\n",
      "  \"\"\"Entry point for launching an IPython kernel.\n"
     ]
    }
   ],
   "source": [
    "africa_df['ganados_y_no'] = np.where(africa_df['juegos_ganados'] > 0 , 1, 0)\n",
    "\n"
   ]
  },
  {
   "cell_type": "code",
   "execution_count": 18,
   "metadata": {},
   "outputs": [
    {
     "data": {
      "text/plain": [
       "'africa'"
      ]
     },
     "execution_count": 18,
     "metadata": {},
     "output_type": "execute_result"
    }
   ],
   "source": [
    "africa_df.continent.value_counts().index[0]"
   ]
  },
  {
   "cell_type": "code",
   "execution_count": 19,
   "metadata": {},
   "outputs": [
    {
     "name": "stdout",
     "output_type": "stream",
     "text": [
      "0.6\n"
     ]
    }
   ],
   "source": [
    "for i in range(len(africa_df.ganados_y_no.value_counts().index)):\n",
    "    if africa_df.ganados_y_no.value_counts().index[i] == 1:\n",
    "        print(africa_df.ganados_y_no.value_counts('%').values[i])"
   ]
  },
  {
   "cell_type": "code",
   "execution_count": 50,
   "metadata": {},
   "outputs": [
    {
     "data": {
      "text/plain": [
       "3"
      ]
     },
     "execution_count": 50,
     "metadata": {},
     "output_type": "execute_result"
    }
   ],
   "source": [
    "africa_df.ganados_y_no.value_counts().values[0]"
   ]
  },
  {
   "cell_type": "code",
   "execution_count": 21,
   "metadata": {},
   "outputs": [
    {
     "name": "stderr",
     "output_type": "stream",
     "text": [
      "/anaconda2/lib/python2.7/site-packages/ipykernel_launcher.py:4: SettingWithCopyWarning: \n",
      "A value is trying to be set on a copy of a slice from a DataFrame.\n",
      "Try using .loc[row_indexer,col_indexer] = value instead\n",
      "\n",
      "See the caveats in the documentation: http://pandas.pydata.org/pandas-docs/stable/indexing.html#indexing-view-versus-copy\n",
      "  after removing the cwd from sys.path.\n"
     ]
    }
   ],
   "source": [
    "probb_ganados = []\n",
    "lista_continentes = []\n",
    "for d in [africa_df, europe_df, asia_df, northamerica_df, southamerica_df]:\n",
    "    d['ganados_y_no'] = np.where(d['juegos_ganados'] > 0 , 1, 0)\n",
    "    lista_continentes.append(d.continent.value_counts().index[0])\n",
    "    \n",
    "    for i in range(len(d.ganados_y_no.value_counts().index)):\n",
    "        if d.ganados_y_no.value_counts().index[i] == 1:\n",
    "            probb_ganados.append(d.ganados_y_no.value_counts('%').values[i])\n",
    "        if (len(d.ganados_y_no.value_counts().index)==1) & (d.ganados_y_no.value_counts().index[i] == 0):\n",
    "            probb_ganados.append(0)\n",
    "\n",
    "      \n",
    "            \n",
    "            "
   ]
  },
  {
   "cell_type": "code",
   "execution_count": 56,
   "metadata": {},
   "outputs": [
    {
     "data": {
      "text/plain": [
       "array([0.01875   , 0.02644231, 0.        , 0.0234375 , 0.03125   ])"
      ]
     },
     "execution_count": 56,
     "metadata": {},
     "output_type": "execute_result"
    }
   ],
   "source": [
    "# Probabilidades de ganar juegos en base al total de CADA dataframe\n",
    "\n",
    "probb_ganados\n",
    "probaa = np.array(probb_ganados)\n",
    "probaa2 = probaa/float(len(df))\n",
    "probaa2"
   ]
  },
  {
   "cell_type": "code",
   "execution_count": 59,
   "metadata": {},
   "outputs": [
    {
     "data": {
      "text/plain": [
       "'southamerica'"
      ]
     },
     "execution_count": 59,
     "metadata": {},
     "output_type": "execute_result"
    }
   ],
   "source": [
    "# De acuerdo a la totalidad de juegos, \n",
    "# ¿Qué continente tuvo una mayor probabilidad de ganar juegos?\n",
    "\n",
    "lista_continentes[list(probaa2).index(max(probaa2))]\n"
   ]
  },
  {
   "cell_type": "code",
   "execution_count": 24,
   "metadata": {},
   "outputs": [],
   "source": [
    "\n",
    "\n",
    "# La desviación standard indicará que tan dispersos estan los datos\n",
    "# a menos dispersión, más \"similares\" los datos... así que:\n",
    "\n",
    "desv = []\n",
    "for d in [africa_df, europe_df, asia_df, northamerica_df, southamerica_df]:\n",
    "    desv.append(np.std(d['ganados_y_no'].value_counts().values))\n",
    "\n"
   ]
  },
  {
   "cell_type": "code",
   "execution_count": 25,
   "metadata": {},
   "outputs": [
    {
     "data": {
      "text/plain": [
       "'asia'"
      ]
     },
     "execution_count": 25,
     "metadata": {},
     "output_type": "execute_result"
    }
   ],
   "source": [
    "# ¿Qué continente presentó un nivel similar \n",
    "# entre juegos ganados y perdidos?\n",
    "\n",
    "lista_continentes[desv.index(min(desv))]"
   ]
  },
  {
   "cell_type": "markdown",
   "metadata": {},
   "source": [
    "##### Utilize el código para el caso de juegos perdidos y analize el continente con una mayor probabilidad de perder."
   ]
  },
  {
   "cell_type": "code",
   "execution_count": 26,
   "metadata": {},
   "outputs": [
    {
     "name": "stderr",
     "output_type": "stream",
     "text": [
      "/anaconda2/lib/python2.7/site-packages/ipykernel_launcher.py:4: SettingWithCopyWarning: \n",
      "A value is trying to be set on a copy of a slice from a DataFrame.\n",
      "Try using .loc[row_indexer,col_indexer] = value instead\n",
      "\n",
      "See the caveats in the documentation: http://pandas.pydata.org/pandas-docs/stable/indexing.html#indexing-view-versus-copy\n",
      "  after removing the cwd from sys.path.\n"
     ]
    }
   ],
   "source": [
    "probb_perdidos_2 = []\n",
    "lista_continentes_2 = []\n",
    "for d in [africa_df, europe_df, asia_df, northamerica_df, southamerica_df]:\n",
    "    d['perdidos_y_no'] = np.where(d['juegos_perdidos'] > 0 , 1, 0)\n",
    "    lista_continentes_2.append(d.continent.value_counts().index[0])\n",
    "    \n",
    "    for i in range(len(d.perdidos_y_no.value_counts().index)):\n",
    "        if d.perdidos_y_no.value_counts().index[i] == 1:\n",
    "            probb_perdidos_2.append(d.perdidos_y_no.value_counts('%').values[i])\n",
    "        if (len(d.perdidos_y_no.value_counts().index)==1) & (d.perdidos_y_no.value_counts().index[i] == 0):\n",
    "            probb_ganados_2.append(0)\n",
    "            \n",
    "            \n",
    "            \n",
    "            \n",
    "            \n",
    "            "
   ]
  },
  {
   "cell_type": "code",
   "execution_count": 27,
   "metadata": {},
   "outputs": [
    {
     "data": {
      "text/plain": [
       "[1.0, 0.6923076923076923, 1.0, 0.5, 0.5]"
      ]
     },
     "execution_count": 27,
     "metadata": {},
     "output_type": "execute_result"
    }
   ],
   "source": [
    "probb_perdidos_2"
   ]
  },
  {
   "cell_type": "code",
   "execution_count": 28,
   "metadata": {},
   "outputs": [
    {
     "data": {
      "text/plain": [
       "(array([0, 2]),)"
      ]
     },
     "execution_count": 28,
     "metadata": {},
     "output_type": "execute_result"
    }
   ],
   "source": [
    "(np.where(probb_perdidos_2==max(probb_perdidos_2)))"
   ]
  },
  {
   "cell_type": "code",
   "execution_count": 29,
   "metadata": {},
   "outputs": [],
   "source": [
    "lista_continentes_2 = np.array(lista_continentes_2)"
   ]
  },
  {
   "cell_type": "code",
   "execution_count": 30,
   "metadata": {},
   "outputs": [
    {
     "data": {
      "text/plain": [
       "array(['africa', 'asia'], dtype='|S12')"
      ]
     },
     "execution_count": 30,
     "metadata": {},
     "output_type": "execute_result"
    }
   ],
   "source": [
    "lista_continentes_2[np.where(probb_perdidos_2==max(probb_perdidos_2))]"
   ]
  },
  {
   "cell_type": "code",
   "execution_count": 48,
   "metadata": {},
   "outputs": [
    {
     "data": {
      "text/plain": [
       "'africa'"
      ]
     },
     "execution_count": 48,
     "metadata": {},
     "output_type": "execute_result"
    }
   ],
   "source": [
    "# Contienente con la mayor probabilidad de perder\n",
    "lista_continentes_2[np.where(probb_perdidos_2==max(probb_perdidos_2))][0]"
   ]
  },
  {
   "cell_type": "code",
   "execution_count": null,
   "metadata": {},
   "outputs": [],
   "source": []
  }
 ],
 "metadata": {
  "kernelspec": {
   "display_name": "Python 3",
   "language": "python",
   "name": "python3"
  },
  "language_info": {
   "codemirror_mode": {
    "name": "ipython",
    "version": 2
   },
   "file_extension": ".py",
   "mimetype": "text/x-python",
   "name": "python",
   "nbconvert_exporter": "python",
   "pygments_lexer": "ipython2",
   "version": "2.7.15"
  }
 },
 "nbformat": 4,
 "nbformat_minor": 2
}
