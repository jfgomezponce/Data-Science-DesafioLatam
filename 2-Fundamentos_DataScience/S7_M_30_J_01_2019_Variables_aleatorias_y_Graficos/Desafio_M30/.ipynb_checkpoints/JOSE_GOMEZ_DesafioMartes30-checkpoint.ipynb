{
 "cells": [
  {
   "cell_type": "markdown",
   "metadata": {},
   "source": [
    "# Desafio Martes 30\n",
    "## José Gómez"
   ]
  },
  {
   "cell_type": "code",
   "execution_count": 1,
   "metadata": {},
   "outputs": [],
   "source": [
    "import pandas as pd\n",
    "import numpy as np"
   ]
  },
  {
   "cell_type": "markdown",
   "metadata": {},
   "source": [
    "# 1. Genere una submuestra de casos"
   ]
  },
  {
   "cell_type": "code",
   "execution_count": 2,
   "metadata": {},
   "outputs": [
    {
     "data": {
      "text/plain": [
       "Index(['ccode', 'cname', 'ccodealp', 'ccodecow', 'ccodewb', 'version',\n",
       "       'aid_cpnc', 'aid_cpsc', 'aid_crnc', 'aid_crnio',\n",
       "       ...\n",
       "       'wvs_relacc', 'wvs_relsch', 'wvs_relsci', 'wvs_satfin', 'wvs_satlif',\n",
       "       'wvs_screl', 'wvs_subh', 'wvs_survself', 'wvs_tradrat', 'wvs_trust'],\n",
       "      dtype='object', length=1882)"
      ]
     },
     "execution_count": 2,
     "metadata": {},
     "output_type": "execute_result"
    }
   ],
   "source": [
    "df = pd.read_csv('qog_std_cs_jan18.csv')\n",
    "df.columns\n"
   ]
  },
  {
   "cell_type": "markdown",
   "metadata": {},
   "source": [
    "### Utilice los últimos 4 dígitos de su rut como semilla pseudoaleatoria."
   ]
  },
  {
   "cell_type": "code",
   "execution_count": 3,
   "metadata": {},
   "outputs": [],
   "source": [
    "np.random.seed(2759)"
   ]
  },
  {
   "cell_type": "code",
   "execution_count": 4,
   "metadata": {},
   "outputs": [
    {
     "data": {
      "text/html": [
       "<div>\n",
       "<style scoped>\n",
       "    .dataframe tbody tr th:only-of-type {\n",
       "        vertical-align: middle;\n",
       "    }\n",
       "\n",
       "    .dataframe tbody tr th {\n",
       "        vertical-align: top;\n",
       "    }\n",
       "\n",
       "    .dataframe thead th {\n",
       "        text-align: right;\n",
       "    }\n",
       "</style>\n",
       "<table border=\"1\" class=\"dataframe\">\n",
       "  <thead>\n",
       "    <tr style=\"text-align: right;\">\n",
       "      <th></th>\n",
       "      <th>undp_hdi</th>\n",
       "      <th>ccodealp</th>\n",
       "      <th>ht_region</th>\n",
       "      <th>gle_cgdpc</th>\n",
       "      <th>imf_pop</th>\n",
       "      <th>ffp_hf</th>\n",
       "      <th>wef_qes</th>\n",
       "      <th>wdi_expedu</th>\n",
       "      <th>wdi_ners</th>\n",
       "    </tr>\n",
       "  </thead>\n",
       "  <tbody>\n",
       "    <tr>\n",
       "      <th>48</th>\n",
       "      <td>0.923</td>\n",
       "      <td>DNK</td>\n",
       "      <td>WesternDem</td>\n",
       "      <td>37406.762</td>\n",
       "      <td>5.627</td>\n",
       "      <td>1.9</td>\n",
       "      <td>4.812749</td>\n",
       "      <td>8.62711</td>\n",
       "      <td>89.817459</td>\n",
       "    </tr>\n",
       "    <tr>\n",
       "      <th>129</th>\n",
       "      <td>NaN</td>\n",
       "      <td>MHL</td>\n",
       "      <td>Pacific</td>\n",
       "      <td>2833.970</td>\n",
       "      <td>0.054</td>\n",
       "      <td>NaN</td>\n",
       "      <td>NaN</td>\n",
       "      <td>NaN</td>\n",
       "      <td>64.461304</td>\n",
       "    </tr>\n",
       "    <tr>\n",
       "      <th>10</th>\n",
       "      <td>0.790</td>\n",
       "      <td>BHS</td>\n",
       "      <td>Caribbean</td>\n",
       "      <td>21672.029</td>\n",
       "      <td>0.356</td>\n",
       "      <td>5.0</td>\n",
       "      <td>NaN</td>\n",
       "      <td>NaN</td>\n",
       "      <td>NaN</td>\n",
       "    </tr>\n",
       "    <tr>\n",
       "      <th>155</th>\n",
       "      <td>0.924</td>\n",
       "      <td>SGP</td>\n",
       "      <td>SouthEastAsia</td>\n",
       "      <td>54268.148</td>\n",
       "      <td>5.470</td>\n",
       "      <td>3.3</td>\n",
       "      <td>5.797279</td>\n",
       "      <td>2.91579</td>\n",
       "      <td>NaN</td>\n",
       "    </tr>\n",
       "    <tr>\n",
       "      <th>148</th>\n",
       "      <td>NaN</td>\n",
       "      <td>SMR</td>\n",
       "      <td>WesternDem</td>\n",
       "      <td>42664.211</td>\n",
       "      <td>0.034</td>\n",
       "      <td>NaN</td>\n",
       "      <td>NaN</td>\n",
       "      <td>2.38373</td>\n",
       "      <td>NaN</td>\n",
       "    </tr>\n",
       "  </tbody>\n",
       "</table>\n",
       "</div>"
      ],
      "text/plain": [
       "     undp_hdi ccodealp      ht_region  gle_cgdpc  imf_pop  ffp_hf   wef_qes  \\\n",
       "48      0.923      DNK     WesternDem  37406.762    5.627     1.9  4.812749   \n",
       "129       NaN      MHL        Pacific   2833.970    0.054     NaN       NaN   \n",
       "10      0.790      BHS      Caribbean  21672.029    0.356     5.0       NaN   \n",
       "155     0.924      SGP  SouthEastAsia  54268.148    5.470     3.3  5.797279   \n",
       "148       NaN      SMR     WesternDem  42664.211    0.034     NaN       NaN   \n",
       "\n",
       "     wdi_expedu   wdi_ners  \n",
       "48      8.62711  89.817459  \n",
       "129         NaN  64.461304  \n",
       "10          NaN        NaN  \n",
       "155     2.91579        NaN  \n",
       "148     2.38373        NaN  "
      ]
     },
     "execution_count": 4,
     "metadata": {},
     "output_type": "execute_result"
    }
   ],
   "source": [
    "#df2 = df.loc[:(len(df)/2)+1,['undp_hdi','ccodealp','ht_region','gle_cgdpc','imf_pop','ffp_hf','wef_qes','wdi_expedu','wdi_ners']]\n",
    "#df2 = df.sample(50)['undp_hdi']['ccodealp']['ht_region']['gle_cgdpc']['imf_pop']['ffp_hf']['wef_qes']['wdi_expedu']['wdi_ners']\n",
    "\n",
    "\n",
    "## Seleccione el 50% de los casos. ##\n",
    "df2 = df.sample(frac = 0.5)\n",
    "\n",
    "## Cada base generada debe contener los siguientes elementos:\n",
    "## Si su apellido está entre la A y la M, escoja las siguientes variables del módulo Educación:\n",
    "\n",
    "df3 = df2.loc[:,['undp_hdi','ccodealp','ht_region','gle_cgdpc','imf_pop','ffp_hf','wef_qes','wdi_expedu','wdi_ners']]\n",
    "df3['ht_region'] = df['ht_region'].replace([1,2,3,4,5,6,7,8,9,10],['EastEurope','LatAm','NorthAfrica','SubSaharian','WesternDem','EastAsia','SouthEastAsia','SouthAsia','Pacific','Caribbean'])\n",
    "#df3['ht_region'].value_counts().sort_index()\n",
    "df3.head()"
   ]
  },
  {
   "cell_type": "code",
   "execution_count": 5,
   "metadata": {},
   "outputs": [
    {
     "data": {
      "text/plain": [
       "undp_hdi      float64\n",
       "ccodealp       object\n",
       "ht_region      object\n",
       "gle_cgdpc     float64\n",
       "imf_pop       float64\n",
       "ffp_hf        float64\n",
       "wef_qes       float64\n",
       "wdi_expedu    float64\n",
       "wdi_ners      float64\n",
       "dtype: object"
      ]
     },
     "execution_count": 5,
     "metadata": {},
     "output_type": "execute_result"
    }
   ],
   "source": [
    "df3.dtypes"
   ]
  },
  {
   "cell_type": "code",
   "execution_count": 6,
   "metadata": {},
   "outputs": [
    {
     "data": {
      "text/plain": [
       "count    91.000000\n",
       "mean      0.712187\n",
       "std       0.146548\n",
       "min       0.421000\n",
       "25%       0.613000\n",
       "50%       0.734000\n",
       "75%       0.827000\n",
       "max       0.948000\n",
       "Name: undp_hdi, dtype: float64"
      ]
     },
     "execution_count": 6,
     "metadata": {},
     "output_type": "execute_result"
    }
   ],
   "source": [
    "df3['undp_hdi'].describe()"
   ]
  },
  {
   "cell_type": "code",
   "execution_count": 7,
   "metadata": {},
   "outputs": [],
   "source": [
    "# Discreta: object (.value_counts())\n",
    "# Continua: float/int (.describe())\n",
    "# Solo value_counts para object (categorica)\n",
    "\n",
    "# Dataframe[columna].dtype\n",
    "# print(continuas[colname].dtype)"
   ]
  },
  {
   "cell_type": "markdown",
   "metadata": {},
   "source": [
    "# 2. Genere una función que ingrese su objeto y devuelva:"
   ]
  },
  {
   "cell_type": "code",
   "execution_count": 8,
   "metadata": {},
   "outputs": [],
   "source": [
    "def desafio_2(dataframe):\n",
    "    continuas = dataframe.select_dtypes(include=['float64'])\n",
    "    discreta = dataframe.select_dtypes(include=['object'])\n",
    "    \n",
    "#    print(continuas.columns)\n",
    "    for colname, registro in continuas.iteritems():\n",
    "        print(\"\\t\"+colname)\n",
    "        print(\"-\"*50)\n",
    "        print(continuas[colname].describe())\n",
    "        print(\"#\"*50+\"\\n\")\n",
    "        \n",
    "    for colname, registro in discreta.iteritems():\n",
    "        print(\"\\t\"+colname)\n",
    "        print(\"-\"*50)\n",
    "        print(discreta[colname].value_counts())\n",
    "        print(\"#\"*50+\"\\n\")\n",
    "\n",
    "##############\n",
    "#    Reporte las estadísticas descriptivas para gle_cgdpc , undp_hdi , imf_pop .\n",
    "##############\n",
    "    print(\"#\"*60)\n",
    "    print(\"Reporte las estadísticas descriptivas para gle_cgdpc , undp_hdi , imf_pop .\")\n",
    "    print(\"#\"*60+\"\\n\")\n",
    "    print(dataframe['gle_cgdpc'].describe())\n",
    "    print(\"#\"*60+\"\\n\")\n",
    "    print(dataframe['undp_hdi'].describe())\n",
    "    print(\"#\"*60+\"\\n\")\n",
    "    print(dataframe['imf_pop'].describe())\n",
    "    #return(continuas)"
   ]
  },
  {
   "cell_type": "markdown",
   "metadata": {},
   "source": [
    "#### Llamado de la funcion con el DataFrame filtrado"
   ]
  },
  {
   "cell_type": "code",
   "execution_count": 9,
   "metadata": {},
   "outputs": [
    {
     "name": "stdout",
     "output_type": "stream",
     "text": [
      "\tundp_hdi\n",
      "--------------------------------------------------\n",
      "count    91.000000\n",
      "mean      0.712187\n",
      "std       0.146548\n",
      "min       0.421000\n",
      "25%       0.613000\n",
      "50%       0.734000\n",
      "75%       0.827000\n",
      "max       0.948000\n",
      "Name: undp_hdi, dtype: float64\n",
      "##################################################\n",
      "\n",
      "\tgle_cgdpc\n",
      "--------------------------------------------------\n",
      "count        96.000000\n",
      "mean      15083.785764\n",
      "std       17563.477710\n",
      "min         324.160000\n",
      "25%        2850.155000\n",
      "50%        9356.430200\n",
      "75%       21698.106750\n",
      "max      108481.130000\n",
      "Name: gle_cgdpc, dtype: float64\n",
      "##################################################\n",
      "\n",
      "\timf_pop\n",
      "--------------------------------------------------\n",
      "count     76.000000\n",
      "mean      25.469276\n",
      "std       46.815034\n",
      "min        0.011000\n",
      "25%        0.874500\n",
      "50%        5.786500\n",
      "75%       28.808499\n",
      "max      252.164993\n",
      "Name: imf_pop, dtype: float64\n",
      "##################################################\n",
      "\n",
      "\tffp_hf\n",
      "--------------------------------------------------\n",
      "count    88.000000\n",
      "mean      5.482955\n",
      "std       2.159514\n",
      "min       1.500000\n",
      "25%       3.675000\n",
      "50%       5.850000\n",
      "75%       7.100000\n",
      "max       9.300000\n",
      "Name: ffp_hf, dtype: float64\n",
      "##################################################\n",
      "\n",
      "\twef_qes\n",
      "--------------------------------------------------\n",
      "count    73.000000\n",
      "mean      3.742582\n",
      "std       0.929875\n",
      "min       1.874972\n",
      "25%       3.004210\n",
      "50%       3.571632\n",
      "75%       4.381113\n",
      "max       5.986858\n",
      "Name: wef_qes, dtype: float64\n",
      "##################################################\n",
      "\n",
      "\twdi_expedu\n",
      "--------------------------------------------------\n",
      "count    75.000000\n",
      "mean      4.699703\n",
      "std       1.940818\n",
      "min       1.021950\n",
      "25%       3.235385\n",
      "50%       4.659410\n",
      "75%       5.489790\n",
      "max      12.467750\n",
      "Name: wdi_expedu, dtype: float64\n",
      "##################################################\n",
      "\n",
      "\twdi_ners\n",
      "--------------------------------------------------\n",
      "count    66.000000\n",
      "mean     77.781964\n",
      "std      18.764271\n",
      "min      23.102320\n",
      "25%      69.166904\n",
      "50%      83.078381\n",
      "75%      92.462929\n",
      "max      99.573357\n",
      "Name: wdi_ners, dtype: float64\n",
      "##################################################\n",
      "\n",
      "\tccodealp\n",
      "--------------------------------------------------\n",
      "FSM    1\n",
      "IRQ    1\n",
      "BLZ    1\n",
      "CPV    1\n",
      "TJK    1\n",
      "      ..\n",
      "KWT    1\n",
      "MNE    1\n",
      "GUY    1\n",
      "ISL    1\n",
      "HUN    1\n",
      "Name: ccodealp, Length: 97, dtype: int64\n",
      "##################################################\n",
      "\n",
      "\tht_region\n",
      "--------------------------------------------------\n",
      "SubSaharian      21\n",
      "WesternDem       16\n",
      "EastEurope       15\n",
      "LatAm            12\n",
      "NorthAfrica       7\n",
      "Caribbean         7\n",
      "Pacific           7\n",
      "SouthEastAsia     6\n",
      "SouthAsia         4\n",
      "EastAsia          2\n",
      "Name: ht_region, dtype: int64\n",
      "##################################################\n",
      "\n",
      "############################################################\n",
      "Reporte las estadísticas descriptivas para gle_cgdpc , undp_hdi , imf_pop .\n",
      "############################################################\n",
      "\n",
      "count        96.000000\n",
      "mean      15083.785764\n",
      "std       17563.477710\n",
      "min         324.160000\n",
      "25%        2850.155000\n",
      "50%        9356.430200\n",
      "75%       21698.106750\n",
      "max      108481.130000\n",
      "Name: gle_cgdpc, dtype: float64\n",
      "############################################################\n",
      "\n",
      "count    91.000000\n",
      "mean      0.712187\n",
      "std       0.146548\n",
      "min       0.421000\n",
      "25%       0.613000\n",
      "50%       0.734000\n",
      "75%       0.827000\n",
      "max       0.948000\n",
      "Name: undp_hdi, dtype: float64\n",
      "############################################################\n",
      "\n",
      "count     76.000000\n",
      "mean      25.469276\n",
      "std       46.815034\n",
      "min        0.011000\n",
      "25%        0.874500\n",
      "50%        5.786500\n",
      "75%       28.808499\n",
      "max      252.164993\n",
      "Name: imf_pop, dtype: float64\n"
     ]
    }
   ],
   "source": [
    "desafio_2(df3)"
   ]
  },
  {
   "cell_type": "markdown",
   "metadata": {},
   "source": [
    "# 3. Genere una función que liste las observaciones perdidas de una variable"
   ]
  },
  {
   "cell_type": "code",
   "execution_count": 64,
   "metadata": {},
   "outputs": [],
   "source": [
    "def obs_perdidas(dataframe,var,print_list=False):\n",
    "#    La función debe retornar la cantidad de casos perdidos y el porcentaje correspondiente.\n",
    "##################\n",
    "#    perdidas = dataframe[var].isna()\n",
    "#    print(type(perdidas)) # <class 'pandas.core.series.Series'>  (False y Null)  \n",
    "#    perdidas_true = [name for name, registro in perdidas.iteritems() if registro == True]\n",
    "#    print(f\"Cantidad de perdidas en la columna [{var}]: {len(perdidas_true)} \\nporcentaje: {len(perdidas_true)/len(dataframe[var])*100} %\")\n",
    "################## Refactorizar...\n",
    "\n",
    "    perdidas = dataframe[var].isna()  # array con las filas que contienen NaN\n",
    "    cantidad = perdidas.sum()\n",
    "    porcentaje = round(cantidad/len(dataframe[var])*100,2)\n",
    "#    print(f\"cantidad: {cantidad}, porcentaje: {porcentaje}\")\n",
    "    \n",
    "    if print_list == True:\n",
    "        print(dataframe[dataframe[var].isna() == True])\n",
    "    \n",
    "    return(cantidad,porcentaje)\n",
    "    "
   ]
  },
  {
   "cell_type": "markdown",
   "metadata": {},
   "source": [
    "#### La función debe retornar la cantidad de casos perdidos y el porcentaje correspondiente."
   ]
  },
  {
   "cell_type": "code",
   "execution_count": 65,
   "metadata": {},
   "outputs": [
    {
     "data": {
      "text/plain": [
       "(21, 21.65)"
      ]
     },
     "execution_count": 65,
     "metadata": {},
     "output_type": "execute_result"
    }
   ],
   "source": [
    "obs_perdidas(df3,'imf_pop')"
   ]
  },
  {
   "cell_type": "markdown",
   "metadata": {},
   "source": [
    "#### Cuando print_list = True , debe retornar la lista de casos."
   ]
  },
  {
   "cell_type": "code",
   "execution_count": 66,
   "metadata": {},
   "outputs": [
    {
     "name": "stdout",
     "output_type": "stream",
     "text": [
      "     undp_hdi ccodealp    ht_region     gle_cgdpc  imf_pop  ffp_hf   wef_qes  \\\n",
      "151     0.491      SEN  SubSaharian    1527.99000      NaN     7.4  3.760167   \n",
      "41      0.425      COD  SubSaharian     324.16000      NaN     7.1  2.957447   \n",
      "42      0.775      CRI        LatAm    9485.71000      NaN     3.5  4.666449   \n",
      "73      0.623      HND        LatAm    3303.13990      NaN     6.9  3.180158   \n",
      "193     0.576      ZMB  SubSaharian    1916.79000      NaN     7.8  4.328835   \n",
      "145     0.762      KNA    Caribbean   11237.75000      NaN     NaN       NaN   \n",
      "139     0.421      GNB  SubSaharian     961.26001      NaN     8.5       NaN   \n",
      "159       NaN      SOM  SubSaharian    1436.74000      NaN     9.2       NaN   \n",
      "69      0.637      GTM        LatAm    4438.00000      NaN     6.7  2.693368   \n",
      "50      0.718      DOM        LatAm   10376.63000      NaN     7.6  2.636395   \n",
      "44      0.773      CUB        LatAm    5899.93990      NaN     5.7       NaN   \n",
      "3       0.857      AND   WesternDem   32367.33000      NaN     NaN       NaN   \n",
      "1       0.762      ALB   EastEurope    8516.70020      NaN     7.1  4.111339   \n",
      "53      0.582      GNQ  SubSaharian   15412.43000      NaN     6.0       NaN   \n",
      "5       0.784      ATG    Caribbean   12257.71000      NaN     7.3       NaN   \n",
      "72      0.490      HTI        LatAm    1024.93990      NaN     9.3  2.325877   \n",
      "163     0.421      SSD  SubSaharian           NaN      NaN     6.9       NaN   \n",
      "19      0.698      BWA  SubSaharian   12770.73000      NaN     5.1  3.523580   \n",
      "63      0.450      GMB  SubSaharian    1601.88000      NaN     7.7  4.276581   \n",
      "61      0.694      GAB  SubSaharian   14525.28000      NaN     5.5  2.875665   \n",
      "111       NaN      MCO   WesternDem  108481.13000      NaN     NaN       NaN   \n",
      "\n",
      "     wdi_expedu   wdi_ners  \n",
      "151     7.39620        NaN  \n",
      "41      2.24535        NaN  \n",
      "42      6.92724  78.121140  \n",
      "73      5.86775  49.259361  \n",
      "193         NaN        NaN  \n",
      "145     2.78424  82.931938  \n",
      "139     2.17313        NaN  \n",
      "159         NaN        NaN  \n",
      "69      2.94174  46.718418  \n",
      "50          NaN  65.457611  \n",
      "44          NaN  87.485672  \n",
      "3       2.99781        NaN  \n",
      "1       3.53944  85.278214  \n",
      "53          NaN        NaN  \n",
      "5           NaN  79.731438  \n",
      "72          NaN        NaN  \n",
      "163     1.71297        NaN  \n",
      "19          NaN        NaN  \n",
      "63      2.76771        NaN  \n",
      "61      2.66617        NaN  \n",
      "111     1.02195        NaN  \n"
     ]
    },
    {
     "data": {
      "text/plain": [
       "(21, 21.65)"
      ]
     },
     "execution_count": 66,
     "metadata": {},
     "output_type": "execute_result"
    }
   ],
   "source": [
    "obs_perdidas(df3,'imf_pop',True)"
   ]
  },
  {
   "cell_type": "markdown",
   "metadata": {},
   "source": [
    "### Analice todas las variables y sus casos perdidos"
   ]
  },
  {
   "cell_type": "markdown",
   "metadata": {},
   "source": [
    "### Para las 3 variables con un mayor porcentaje de casos perdidos, solicite la lista de países con ausencia de datos."
   ]
  },
  {
   "cell_type": "code",
   "execution_count": 106,
   "metadata": {},
   "outputs": [
    {
     "data": {
      "text/plain": [
       "[['wdi_ners',\n",
       "  array(['BHS', 'SGP', 'SMR', 'SEN', 'COD', 'ZMB', 'TGO', 'MNE', 'GNB',\n",
       "         'LBY', 'NIC', 'SOM', 'RUS', 'SVK', 'AND', 'TZA', 'AUT', 'IRQ',\n",
       "         'GNQ', 'MDV', 'HTI', 'SSD', 'CIV', 'BWA', 'MNG', 'KIR', 'GMB',\n",
       "         'FSM', 'UGA', 'GAB', 'MCO'], dtype=object)],\n",
       " ['wef_qes',\n",
       "  array(['MHL', 'BHS', 'SMR', 'FJI', 'TGO', 'KNA', 'GNB', 'TUV', 'COM',\n",
       "         'SOM', 'WSM', 'CUB', 'AND', 'BLR', 'LCA', 'IRQ', 'GNQ', 'MDV',\n",
       "         'ATG', 'SSD', 'NRU', 'KIR', 'FSM', 'MCO'], dtype=object)],\n",
       " ['wdi_expedu',\n",
       "  array(['MHL', 'BHS', 'KWT', 'ZMB', 'MNE', 'PHL', 'LBY', 'TUV', 'NIC',\n",
       "         'SOM', 'WSM', 'DOM', 'CUB', 'GRC', 'IRQ', 'GNQ', 'ATG', 'HTI',\n",
       "         'NRU', 'BWA', 'KIR', 'EGY'], dtype=object)]]"
      ]
     },
     "execution_count": 106,
     "metadata": {},
     "output_type": "execute_result"
    }
   ],
   "source": [
    "# Diccionario que almacenará los porcentajes, para obtener las 3 mas altas\n",
    "dict_temp = {}\n",
    "\n",
    "columnas = list(df3.columns)\n",
    "for num, i in enumerate(columnas):\n",
    "    cant, percent = obs_perdidas(df3,i)    \n",
    "    dict_temp[i]=percent\n",
    "    \n",
    "\n",
    "#####################################\n",
    "# key del valor más alto\n",
    "#####################################\n",
    "\n",
    "max(dict_temp, key=lambda key: dict_temp[key]) # wdi_ners\n",
    "#print(dict_temp.get(\"wdi_ners\")) # 31.96\n",
    "\n",
    "#####################################\n",
    "# almacenar las 3 columnas con mayor porcentaje de casos perdidos\n",
    "# ordenar de menor a mayor\n",
    "#####################################\n",
    "mas_porcentajes = [] # Almacenará las 3 columnas con % más altos\n",
    "mas_porcentajes_values = []\n",
    "mas_porcentajes_index = []\n",
    "\n",
    "for key, value in dict_temp.items():\n",
    "    mas_porcentajes_index.append(key)\n",
    "    mas_porcentajes_values.append(value)\n",
    "\n",
    "porcentajes_sorted = np.sort(mas_porcentajes_values)\n",
    "for i in range(-1,-4,-1):\n",
    "    mas_porcentajes.append(mas_porcentajes_index[mas_porcentajes_values.index(porcentajes_sorted[i])])\n",
    "\n",
    "# solicite la lista de paises con auscencia de datos\n",
    "mayores_na = []\n",
    "for i in mas_porcentajes:\n",
    "    mayores_na.append([i,df3[df3[i].isna() == True]['ccodealp'].values])\n",
    "mayores_na"
   ]
  },
  {
   "cell_type": "markdown",
   "metadata": {},
   "source": [
    "## 4. Grafique los histogramas"
   ]
  },
  {
   "cell_type": "markdown",
   "metadata": {},
   "source": [
    "### Genere una función que grafique un histograma en conjunto y señale las medias."
   ]
  },
  {
   "cell_type": "code",
   "execution_count": 107,
   "metadata": {},
   "outputs": [],
   "source": [
    "import matplotlib.pyplot as plt\n",
    "\n",
    "def grafica_hist(dataframe,var,sample_mean=False,true_mean=False):\n",
    "    '''\n",
    "    sample_mean : Booleano. Si es verdadero, debe generar una recta vertical indicando la\n",
    "        media de la variable en la selección muestral. Por defecto debe ser False .\n",
    "        \n",
    "    true_mean : Booleano. Si es verdadero, debe generar una recta vertical indicando la\n",
    "        media de variable en la base de datos completa.\n",
    "    \n",
    "    ======\n",
    "    Implemente las funciones para las 4 variables seleccionadas según su grupo.\n",
    "    \n",
    "        ffp_hf : Human Flight and Brain Drain\n",
    "        wef_qes : Quality of the educational system\n",
    "        wdi_expedu : Government expenditure on education, total (% of GDP)\n",
    "        wdi_ners : School enrollment, secondary (% net)\n",
    "    '''\n",
    "    \n",
    "    col_dropna = dataframe[var].dropna()\n",
    "    plt.hist(col_dropna, color='lightblue', alpha=.4)\n",
    "    if sample_mean == True:\n",
    "        plt.axvline(dataframe[var].mean(), color = 'tomato', linestyle = '--')\n",
    "    if true_mean == True:\n",
    "        plt.axvline(df[var].mean(), color = 'green', linestyle = '--')\n",
    "    #plt.title(f\"Histograma para\" + r\"$\\bf{\"+{var}+\"}$\")\n",
    "    plt.title(\"histograma de: \" + r\"$\\bf{%s}$\" % var)\n",
    "    plt.show()"
   ]
  },
  {
   "cell_type": "code",
   "execution_count": 108,
   "metadata": {},
   "outputs": [],
   "source": [
    "# print(df.shape, df3.shape ) # (194, 1882) (97, 9)"
   ]
  },
  {
   "cell_type": "code",
   "execution_count": 109,
   "metadata": {},
   "outputs": [
    {
     "data": {
      "image/png": "[encoded data removed]",
      "text/plain": [
       "<Figure size 432x288 with 1 Axes>"
      ]
     },
     "metadata": {
      "needs_background": "light"
     },
     "output_type": "display_data"
    }
   ],
   "source": [
    "grafica_hist(df3,'ffp_hf',True,True)"
   ]
  },
  {
   "cell_type": "code",
   "execution_count": 110,
   "metadata": {},
   "outputs": [
    {
     "data": {
      "image/png": "[encoded data removed]",
      "text/plain": [
       "<Figure size 432x288 with 1 Axes>"
      ]
     },
     "metadata": {
      "needs_background": "light"
     },
     "output_type": "display_data"
    },
    {
     "data": {
      "image/png": "[encoded data removed]",
      "text/plain": [
       "<Figure size 432x288 with 1 Axes>"
      ]
     },
     "metadata": {
      "needs_background": "light"
     },
     "output_type": "display_data"
    },
    {
     "data": {
      "image/png": "[encoded data removed]",
      "text/plain": [
       "<Figure size 432x288 with 1 Axes>"
      ]
     },
     "metadata": {
      "needs_background": "light"
     },
     "output_type": "display_data"
    },
    {
     "data": {
      "image/png": "[encoded data removed]",
      "text/plain": [
       "<Figure size 432x288 with 1 Axes>"
      ]
     },
     "metadata": {
      "needs_background": "light"
     },
     "output_type": "display_data"
    }
   ],
   "source": [
    "for columnas in ['ffp_hf', 'wef_qes', 'wdi_expedu', 'wdi_ners']:\n",
    "    grafica_hist(df3,columnas,True,True)"
   ]
  },
  {
   "cell_type": "markdown",
   "metadata": {},
   "source": [
    "# 5. Genere una función que devuelva un dotplot\n",
    "### Implemente la función en las 3 variables con una menor cantidad de datos perdidos."
   ]
  },
  {
   "cell_type": "markdown",
   "metadata": {},
   "source": [
    "#### La función debe contener los siguientes argumentos como argumentos:\n",
    "##### dataframe : La tabla de datos donde buscar las variables.\n",
    "##### plot_var : La variable a analizar y extraer las medias.\n",
    "##### plot_by : La variable agrupadora.\n",
    "##### global_stat : Booleano. Si es True debe graficar la media global de la variable. (Por defecto debe ser False )\n",
    "##### statistic: Debe presentar dos opciones. mean para la media y median para la mediana (Por defecto debe ser mean )\n"
   ]
  },
  {
   "cell_type": "code",
   "execution_count": 121,
   "metadata": {},
   "outputs": [],
   "source": [
    "# Diccionario que almacenará las cantidades, para obtener la columna con mas baja cantidad de NaN\n",
    "\n",
    "dict_temp2 = {}\n",
    "\n",
    "columnas2 = list(df3.columns)\n",
    "#print(df2.shape) # (97, 1882)\n",
    "for num, i in enumerate(columnas2):\n",
    "    \n",
    "    # Verificar si es columna de float o int \n",
    "    if (df3[i].dtype == np.float64 or df3[i].dtype == np.int64):\n",
    "        \n",
    "        # Reciclaje de la funcion del Desafio 3\n",
    "        cant, percent = obs_perdidas(df3,i)    \n",
    "        dict_temp2[i]=cant\n",
    "    \n",
    "# key del valor más bajo\n",
    "min(dict_temp2, key=lambda key: dict_temp[key]) # ccode\n",
    "\n",
    "menor_cantidad = []\n",
    "menor_cantidad_index = []\n",
    "menor_cantidad_values = []\n",
    "\n",
    "for key,value in dict_temp2.items():\n",
    "    menor_cantidad_index.append(key)\n",
    "    menor_cantidad_values.append(value)\n",
    "\n",
    "menor_cant_sorted = np.sort(menor_cantidad_values)\n",
    "\n",
    "# Lista con las 3 columnas con menor cantidad de elementos perdidos\n",
    "for i in range(3):\n",
    "    menor_cantidad.append(menor_cantidad_index[menor_cantidad_values.index(menor_cant_sorted[i])])\n"
   ]
  },
  {
   "cell_type": "code",
   "execution_count": 122,
   "metadata": {},
   "outputs": [
    {
     "data": {
      "text/plain": [
       "['gle_cgdpc', 'undp_hdi', 'ffp_hf']"
      ]
     },
     "execution_count": 122,
     "metadata": {},
     "output_type": "execute_result"
    }
   ],
   "source": [
    "menor_cantidad"
   ]
  },
  {
   "cell_type": "code",
   "execution_count": 222,
   "metadata": {},
   "outputs": [],
   "source": [
    "def graficar_dotplot(dataframe, plot_var, plot_by, global_stat=False, statistic='mean'):\n",
    "    '''\n",
    "    dataframe : La tabla de datos donde buscar las variables.\n",
    "    plot_var : La variable a analizar y extraer las medias.\n",
    "    plot_by : La variable agrupadora.\n",
    "    global_stat : Booleano. Si es True debe graficar la media global de la variable. Por\n",
    "        defecto debe ser False .\n",
    "    statistic: Debe presentar dos opciones. mean para la media y median para la mediana.\n",
    "        Por defecto debe ser mean .\n",
    "    '''\n",
    "    dataframe_agrupado = dataframe.groupby(plot_by)[plot_var]\n",
    "    var_mean = dataframe[plot_var].mean()\n",
    "\n",
    "    \n",
    "    if statistic == 'mean':\n",
    "        mean_agrupado = round(dataframe_agrupado.mean(),2)\n",
    "        #print(len(mean_agrupado.index))\n",
    "        #print(len(mean_agrupado.values))\n",
    "        \n",
    "        # SI NO LOS PASO A LISTA, ME DA ERROR \"TUPLE OUT OF RANGE\"\n",
    "        x = [i for i in mean_agrupado.values]\n",
    "        y = [i for i in mean_agrupado.index]\n",
    "        \n",
    "        #plt.plot(mean_agrupado.values,mean_agrupado.index,'o') # IndexError: tuple index out of range\n",
    "        plt.plot(x,y,'o')\n",
    "        \n",
    "    elif statistic == 'median':\n",
    "        median_agrupado = round(dataframe_agrupado.median(),2)\n",
    "        x2 = [i for i in median_agrupado.values]\n",
    "        y2 = [i for i in median_agrupado.index]\n",
    "        plt.plot(x2,y2,'go')\n",
    "        #plt.plot(median_agrupado.values,median_agrupado.index,'o') # IndexError: tuple index out of range\n",
    "        \n",
    "\n",
    "    if global_stat:\n",
    "        plt.axvline(var_mean, color = 'r',label=f\"Mean ({round(var_mean,2)})\", linestyle = '--')\n",
    "        plt.legend(loc='lower left')\n",
    "\n",
    "    plt.title(f\"Dotplot de: {plot_var} - {statistic}\", size='x-large')\n",
    "    plt.show()"
   ]
  },
  {
   "cell_type": "code",
   "execution_count": 223,
   "metadata": {},
   "outputs": [
    {
     "data": {
      "image/png": "[encoded data removed]",
      "text/plain": [
       "<Figure size 432x288 with 1 Axes>"
      ]
     },
     "metadata": {
      "needs_background": "light"
     },
     "output_type": "display_data"
    }
   ],
   "source": [
    "graficar_dotplot(df3,'undp_hdi','ht_region',True,'median')"
   ]
  },
  {
   "cell_type": "code",
   "execution_count": 224,
   "metadata": {},
   "outputs": [
    {
     "data": {
      "image/png": "[encoded data removed]",
      "text/plain": [
       "<Figure size 432x288 with 1 Axes>"
      ]
     },
     "metadata": {
      "needs_background": "light"
     },
     "output_type": "display_data"
    }
   ],
   "source": [
    "graficar_dotplot(df3,'undp_hdi','ht_region',True,'mean')"
   ]
  },
  {
   "cell_type": "markdown",
   "metadata": {},
   "source": [
    "### Implemente la función en las 3 variables con una menor cantidad de datos perdidos."
   ]
  },
  {
   "cell_type": "code",
   "execution_count": 225,
   "metadata": {},
   "outputs": [
    {
     "data": {
      "image/png": "[encoded data removed]",
      "text/plain": [
       "<Figure size 432x288 with 1 Axes>"
      ]
     },
     "metadata": {
      "needs_background": "light"
     },
     "output_type": "display_data"
    },
    {
     "data": {
      "image/png": "[encoded data removed]",
      "text/plain": [
       "<Figure size 432x288 with 1 Axes>"
      ]
     },
     "metadata": {
      "needs_background": "light"
     },
     "output_type": "display_data"
    },
    {
     "data": {
      "image/png": "[encoded data removed]",
      "text/plain": [
       "<Figure size 432x288 with 1 Axes>"
      ]
     },
     "metadata": {
      "needs_background": "light"
     },
     "output_type": "display_data"
    },
    {
     "data": {
      "image/png": "[encoded data removed]",
      "text/plain": [
       "<Figure size 432x288 with 1 Axes>"
      ]
     },
     "metadata": {
      "needs_background": "light"
     },
     "output_type": "display_data"
    },
    {
     "data": {
      "image/png": "[encoded data removed]",
      "text/plain": [
       "<Figure size 432x288 with 1 Axes>"
      ]
     },
     "metadata": {
      "needs_background": "light"
     },
     "output_type": "display_data"
    },
    {
     "data": {
      "image/png": "[encoded data removed]",
      "text/plain": [
       "<Figure size 432x288 with 1 Axes>"
      ]
     },
     "metadata": {
      "needs_background": "light"
     },
     "output_type": "display_data"
    }
   ],
   "source": [
    "for variable in menor_cantidad:\n",
    "    graficar_dotplot(df3,variable,'ht_region',True,'mean')\n",
    "    graficar_dotplot(df3,variable,'ht_region',True,'median')"
   ]
  },
  {
   "cell_type": "code",
   "execution_count": 226,
   "metadata": {},
   "outputs": [],
   "source": [
    "# Obtenido de la lectura\n",
    "#hdi_group = df.loc[:, ['cname', 'ccode', 'undp_hdi', 'ht_region'] ]\n",
    "#hdi_group['region_recod'] = hdi_group['ht_region'].replace([1, 2, 3, 4, 5, 6, 7, 8, 9, 10], ['EastEurope', 'LatAm', 'NorthAfrica','SubSaharian', 'WesternDem', 'EastAsia','SouthEastAsia','SouthAsia','Pacific', 'Caribbean' ])\n",
    "#group_mean = round(hdi_group.groupby('region_recod')['undp_hdi'].mean(),2)\n",
    "#print(group_mean.head())\n",
    "#plt.title('Posición de distintas zonas geográficas en cuanto a HDI')\n",
    "#plt.plot(group_mean.values, group_mean.index, 'o', color = 'grey')\n",
    "#plt.axvline(hdi_group['undp_hdi'].mean(), color = 'tomato', linestyle = '--')\n",
    "\n",
    "## IndexError: tuple index out of range\n",
    "\n",
    "# No logro captar el error...\n",
    "\n",
    "\n",
    "\n",
    "#    plt.plot([0.74,0.82,0.8,0.7,0.75,0.66,0.59,0.71,0.53,0.9],\n",
    "#             ['Caribbean', 'EastAsia', 'EastEurope', 'LatAm', 'NorthAfrica',\n",
    "#       'Pacific', 'SouthAsia', 'SouthEastAsia', 'SubSaharian', 'WesternDem'], 'ro')"
   ]
  },
  {
   "cell_type": "markdown",
   "metadata": {},
   "source": [
    "### 6. Guarde la base de datos\n",
    "La submuestra creada tiene un método llamado to_csv .\n",
    "Acceda a éste y guarde la base de datos con la siguiente nomenclatura:\n",
    "\n",
    "subsample_[iniciales]_demo.csv .\n",
    "(Súbala a la plataforma, junto al desafío)"
   ]
  },
  {
   "cell_type": "code",
   "execution_count": 227,
   "metadata": {},
   "outputs": [],
   "source": [
    "df3.to_csv(\"subsample_JFGP_demo.csv\")"
   ]
  },
  {
   "cell_type": "code",
   "execution_count": null,
   "metadata": {},
   "outputs": [],
   "source": []
  }
 ],
 "metadata": {
  "kernelspec": {
   "display_name": "Python 3",
   "language": "python",
   "name": "python3"
  },
  "language_info": {
   "codemirror_mode": {
    "name": "ipython",
    "version": 3
   },
   "file_extension": ".py",
   "mimetype": "text/x-python",
   "name": "python",
   "nbconvert_exporter": "python",
   "pygments_lexer": "ipython3",
   "version": "3.6.7"
  }
 },
 "nbformat": 4,
 "nbformat_minor": 2
}
