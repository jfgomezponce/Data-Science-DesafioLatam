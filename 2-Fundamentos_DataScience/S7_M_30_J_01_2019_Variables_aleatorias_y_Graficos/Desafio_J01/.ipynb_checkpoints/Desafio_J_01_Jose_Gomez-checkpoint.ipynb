{
 "cells": [
  {
   "cell_type": "markdown",
   "metadata": {},
   "source": [
    "# <center> Desafío - Estimando curvas normales\n",
    "## <center> Jose Gomez\n",
    "\n",
    "## 1. Importe un csv desde internet\n",
    "Utilice la base de datos de un compañero creada en la sesión pasada."
   ]
  },
  {
   "cell_type": "code",
   "execution_count": 1,
   "metadata": {},
   "outputs": [
    {
     "data": {
      "text/plain": [
       "Index(['Unnamed: 0', 'undp_hdi', 'ccodealp', 'ht_region', 'gle_cgdpc',\n",
       "       'imf_pop', 'wef_imort', 'who_alc2000', 'who_tobt', 'wdi_exph'],\n",
       "      dtype='object')"
      ]
     },
     "execution_count": 1,
     "metadata": {},
     "output_type": "execute_result"
    }
   ],
   "source": [
    "import pandas as pd\n",
    "import numpy as np\n",
    "import matplotlib.pyplot as plt\n",
    "\n",
    "df_luis = pd.read_csv(\"subsample_LAPP_demo.csv\")\n",
    "df_luis.columns"
   ]
  },
  {
   "cell_type": "markdown",
   "metadata": {},
   "source": [
    "## 2. Importe su conjunto de funciones\n",
    "Genere un archivo ancilliary_funcs.py para guardar las funciones creadas en la sesión\n",
    "pasada e impórtelo.\n",
    "Utilice las funciones creadas para inspeccionar la cantidad de casos perdidos de la muestra de\n",
    "su compañero."
   ]
  },
  {
   "cell_type": "code",
   "execution_count": 2,
   "metadata": {},
   "outputs": [
    {
     "name": "stdout",
     "output_type": "stream",
     "text": [
      "['undp_hdi', (4, 4.12), 'ccodealp', (0, 0.0), 'ht_region', (0, 0.0), 'gle_cgdpc', (0, 0.0), 'imf_pop', (23, 23.71), 'wef_imort', (18, 18.56), 'who_alc2000', (4, 4.12), 'who_tobt', (31, 31.96), 'wdi_exph', (1, 1.03)]\n"
     ]
    }
   ],
   "source": [
    "from ancilliary_funcs import desafio_2\n",
    "from ancilliary_funcs import grafica_hist\n",
    "from ancilliary_funcs import graficar_dotplot\n",
    "from ancilliary_funcs import obs_perdidas \n",
    "\n",
    "#grafica_hist(df_luis,'undp_hdi',True,True) \n",
    "obs_perdidas(df_luis,'undp_hdi') # Cantidad de datos perdidos y el % respecto al total \n",
    "## (4, 4.12)\n",
    "\n",
    "cantidad_datos_perdidos = []\n",
    "for i,columna in enumerate(df_luis):\n",
    "    if i > 0:\n",
    "        cantidad_datos_perdidos.append(columna)\n",
    "        cantidad_datos_perdidos.append(obs_perdidas(df_luis,columna))\n",
    "print(cantidad_datos_perdidos)"
   ]
  },
  {
   "cell_type": "markdown",
   "metadata": {},
   "source": [
    "### Las columnas numéricas y con menor cantidad de datos perdidos son: undp_hdi , gle_cgdpc , wdi_exph"
   ]
  },
  {
   "cell_type": "code",
   "execution_count": 3,
   "metadata": {},
   "outputs": [],
   "source": [
    "columnas_menos_na = ['undp_hdi' , 'gle_cgdpc' , 'wdi_exph']"
   ]
  },
  {
   "cell_type": "markdown",
   "metadata": {},
   "source": [
    "## 3. Estime el puntaje Z\n",
    "Estime el puntaze Z para las 10 primeras y últimas observaciones de las variables con una menor\n",
    "cantidad de datos perdidos"
   ]
  },
  {
   "cell_type": "code",
   "execution_count": 4,
   "metadata": {},
   "outputs": [],
   "source": [
    "def get_z_score(dataframe, cols):\n",
    "    \"\"\"\n",
    "    Esta funcion retorna un sub dataframe de \"dataframe\" el cual contiene los z-scores de [cols]\n",
    "    \"\"\"\n",
    "    df_z_scores = pd.DataFrame()\n",
    "    for i in cols:\n",
    "        droped_na = dataframe[i].dropna()\n",
    "        mean_drop = droped_na.mean()\n",
    "        std_drop = droped_na.std()\n",
    "        z_score = droped_na - mean_drop / std_drop\n",
    "        \n",
    "        df_z_scores[f'{i}_zcore'] = z_score\n",
    "    return df_z_scores"
   ]
  },
  {
   "cell_type": "code",
   "execution_count": 5,
   "metadata": {},
   "outputs": [],
   "source": [
    "# Concateno el dataframe de Luis con el dataframe retornado por la función \"get_z_score\"\n",
    "df_luis_full = pd.concat([df_luis, get_z_score(df_luis,columnas_menos_na)],axis=1)"
   ]
  },
  {
   "cell_type": "code",
   "execution_count": 6,
   "metadata": {},
   "outputs": [],
   "source": [
    "sorted_luis_full = df_luis_full.dropna().sort_values(by=['undp_hdi_zcore','gle_cgdpc_zcore','wdi_exph_zcore'])"
   ]
  },
  {
   "cell_type": "markdown",
   "metadata": {},
   "source": [
    "###### Z-Score de los primeros 10 resgistros"
   ]
  },
  {
   "cell_type": "markdown",
   "metadata": {},
   "source": [
    "### Seleccionen las primeras y últimas 10 observaciones de la base reordenada. ¿Qué características en común se encuentran?\n",
    "\n"
   ]
  },
  {
   "cell_type": "code",
   "execution_count": 7,
   "metadata": {},
   "outputs": [
    {
     "data": {
      "text/html": [
       "<div>\n",
       "<style scoped>\n",
       "    .dataframe tbody tr th:only-of-type {\n",
       "        vertical-align: middle;\n",
       "    }\n",
       "\n",
       "    .dataframe tbody tr th {\n",
       "        vertical-align: top;\n",
       "    }\n",
       "\n",
       "    .dataframe thead th {\n",
       "        text-align: right;\n",
       "    }\n",
       "</style>\n",
       "<table border=\"1\" class=\"dataframe\">\n",
       "  <thead>\n",
       "    <tr style=\"text-align: right;\">\n",
       "      <th></th>\n",
       "      <th>Unnamed: 0</th>\n",
       "      <th>undp_hdi</th>\n",
       "      <th>ccodealp</th>\n",
       "      <th>ht_region</th>\n",
       "      <th>gle_cgdpc</th>\n",
       "      <th>imf_pop</th>\n",
       "      <th>wef_imort</th>\n",
       "      <th>who_alc2000</th>\n",
       "      <th>who_tobt</th>\n",
       "      <th>wdi_exph</th>\n",
       "      <th>undp_hdi_zcore</th>\n",
       "      <th>gle_cgdpc_zcore</th>\n",
       "      <th>wdi_exph_zcore</th>\n",
       "    </tr>\n",
       "  </thead>\n",
       "  <tbody>\n",
       "    <tr>\n",
       "      <th>66</th>\n",
       "      <td>187</td>\n",
       "      <td>0.399</td>\n",
       "      <td>BFA</td>\n",
       "      <td>SubSaharian</td>\n",
       "      <td>1095.96000</td>\n",
       "      <td>16.500000</td>\n",
       "      <td>65.800003</td>\n",
       "      <td>4.64</td>\n",
       "      <td>19.100000</td>\n",
       "      <td>4.960263</td>\n",
       "      <td>-3.995404</td>\n",
       "      <td>1095.18592</td>\n",
       "      <td>2.467680</td>\n",
       "    </tr>\n",
       "    <tr>\n",
       "      <th>35</th>\n",
       "      <td>116</td>\n",
       "      <td>0.414</td>\n",
       "      <td>MOZ</td>\n",
       "      <td>SubSaharian</td>\n",
       "      <td>852.39001</td>\n",
       "      <td>25.733000</td>\n",
       "      <td>63.099998</td>\n",
       "      <td>1.16</td>\n",
       "      <td>18.799999</td>\n",
       "      <td>6.975582</td>\n",
       "      <td>-3.980404</td>\n",
       "      <td>851.61593</td>\n",
       "      <td>4.482998</td>\n",
       "    </tr>\n",
       "    <tr>\n",
       "      <th>14</th>\n",
       "      <td>106</td>\n",
       "      <td>0.438</td>\n",
       "      <td>MLI</td>\n",
       "      <td>SubSaharian</td>\n",
       "      <td>1063.26000</td>\n",
       "      <td>14.854000</td>\n",
       "      <td>79.599998</td>\n",
       "      <td>0.61</td>\n",
       "      <td>18.600000</td>\n",
       "      <td>6.862166</td>\n",
       "      <td>-3.956404</td>\n",
       "      <td>1062.48592</td>\n",
       "      <td>4.369583</td>\n",
       "    </tr>\n",
       "    <tr>\n",
       "      <th>42</th>\n",
       "      <td>54</td>\n",
       "      <td>0.441</td>\n",
       "      <td>ETH</td>\n",
       "      <td>SubSaharian</td>\n",
       "      <td>900.77002</td>\n",
       "      <td>88.347000</td>\n",
       "      <td>46.500000</td>\n",
       "      <td>1.86</td>\n",
       "      <td>4.700000</td>\n",
       "      <td>4.884313</td>\n",
       "      <td>-3.953404</td>\n",
       "      <td>899.99594</td>\n",
       "      <td>2.391729</td>\n",
       "    </tr>\n",
       "    <tr>\n",
       "      <th>53</th>\n",
       "      <td>108</td>\n",
       "      <td>0.513</td>\n",
       "      <td>MRT</td>\n",
       "      <td>SubSaharian</td>\n",
       "      <td>2223.01000</td>\n",
       "      <td>3.369000</td>\n",
       "      <td>64.800003</td>\n",
       "      <td>0.01</td>\n",
       "      <td>22.299999</td>\n",
       "      <td>3.772699</td>\n",
       "      <td>-3.881404</td>\n",
       "      <td>2222.23592</td>\n",
       "      <td>1.280115</td>\n",
       "    </tr>\n",
       "    <tr>\n",
       "      <th>76</th>\n",
       "      <td>185</td>\n",
       "      <td>0.519</td>\n",
       "      <td>TZA</td>\n",
       "      <td>SubSaharian</td>\n",
       "      <td>1416.30000</td>\n",
       "      <td>43.880001</td>\n",
       "      <td>37.700001</td>\n",
       "      <td>4.20</td>\n",
       "      <td>16.299999</td>\n",
       "      <td>5.580116</td>\n",
       "      <td>-3.875404</td>\n",
       "      <td>1415.52592</td>\n",
       "      <td>3.087532</td>\n",
       "    </tr>\n",
       "    <tr>\n",
       "      <th>4</th>\n",
       "      <td>88</td>\n",
       "      <td>0.550</td>\n",
       "      <td>KEN</td>\n",
       "      <td>SubSaharian</td>\n",
       "      <td>1494.63000</td>\n",
       "      <td>40.700001</td>\n",
       "      <td>48.700001</td>\n",
       "      <td>1.84</td>\n",
       "      <td>13.600000</td>\n",
       "      <td>5.720291</td>\n",
       "      <td>-3.844404</td>\n",
       "      <td>1493.85592</td>\n",
       "      <td>3.227707</td>\n",
       "    </tr>\n",
       "    <tr>\n",
       "      <th>15</th>\n",
       "      <td>25</td>\n",
       "      <td>0.552</td>\n",
       "      <td>MMR</td>\n",
       "      <td>SouthEastAsia</td>\n",
       "      <td>5733.37010</td>\n",
       "      <td>51.418999</td>\n",
       "      <td>41.099998</td>\n",
       "      <td>0.70</td>\n",
       "      <td>20.000000</td>\n",
       "      <td>2.275755</td>\n",
       "      <td>-3.842404</td>\n",
       "      <td>5732.59602</td>\n",
       "      <td>-0.216829</td>\n",
       "    </tr>\n",
       "    <tr>\n",
       "      <th>58</th>\n",
       "      <td>120</td>\n",
       "      <td>0.555</td>\n",
       "      <td>NPL</td>\n",
       "      <td>SouthAsia</td>\n",
       "      <td>1462.08000</td>\n",
       "      <td>28.174999</td>\n",
       "      <td>33.599998</td>\n",
       "      <td>0.27</td>\n",
       "      <td>24.600000</td>\n",
       "      <td>5.797226</td>\n",
       "      <td>-3.839404</td>\n",
       "      <td>1461.30592</td>\n",
       "      <td>3.304642</td>\n",
       "    </tr>\n",
       "    <tr>\n",
       "      <th>26</th>\n",
       "      <td>28</td>\n",
       "      <td>0.558</td>\n",
       "      <td>KHM</td>\n",
       "      <td>SouthEastAsia</td>\n",
       "      <td>1927.06010</td>\n",
       "      <td>14.605000</td>\n",
       "      <td>33.900002</td>\n",
       "      <td>2.12</td>\n",
       "      <td>23.000000</td>\n",
       "      <td>5.675639</td>\n",
       "      <td>-3.836404</td>\n",
       "      <td>1926.28602</td>\n",
       "      <td>3.183055</td>\n",
       "    </tr>\n",
       "  </tbody>\n",
       "</table>\n",
       "</div>"
      ],
      "text/plain": [
       "    Unnamed: 0  undp_hdi ccodealp      ht_region   gle_cgdpc    imf_pop  \\\n",
       "66         187     0.399      BFA    SubSaharian  1095.96000  16.500000   \n",
       "35         116     0.414      MOZ    SubSaharian   852.39001  25.733000   \n",
       "14         106     0.438      MLI    SubSaharian  1063.26000  14.854000   \n",
       "42          54     0.441      ETH    SubSaharian   900.77002  88.347000   \n",
       "53         108     0.513      MRT    SubSaharian  2223.01000   3.369000   \n",
       "76         185     0.519      TZA    SubSaharian  1416.30000  43.880001   \n",
       "4           88     0.550      KEN    SubSaharian  1494.63000  40.700001   \n",
       "15          25     0.552      MMR  SouthEastAsia  5733.37010  51.418999   \n",
       "58         120     0.555      NPL      SouthAsia  1462.08000  28.174999   \n",
       "26          28     0.558      KHM  SouthEastAsia  1927.06010  14.605000   \n",
       "\n",
       "    wef_imort  who_alc2000   who_tobt  wdi_exph  undp_hdi_zcore  \\\n",
       "66  65.800003         4.64  19.100000  4.960263       -3.995404   \n",
       "35  63.099998         1.16  18.799999  6.975582       -3.980404   \n",
       "14  79.599998         0.61  18.600000  6.862166       -3.956404   \n",
       "42  46.500000         1.86   4.700000  4.884313       -3.953404   \n",
       "53  64.800003         0.01  22.299999  3.772699       -3.881404   \n",
       "76  37.700001         4.20  16.299999  5.580116       -3.875404   \n",
       "4   48.700001         1.84  13.600000  5.720291       -3.844404   \n",
       "15  41.099998         0.70  20.000000  2.275755       -3.842404   \n",
       "58  33.599998         0.27  24.600000  5.797226       -3.839404   \n",
       "26  33.900002         2.12  23.000000  5.675639       -3.836404   \n",
       "\n",
       "    gle_cgdpc_zcore  wdi_exph_zcore  \n",
       "66       1095.18592        2.467680  \n",
       "35        851.61593        4.482998  \n",
       "14       1062.48592        4.369583  \n",
       "42        899.99594        2.391729  \n",
       "53       2222.23592        1.280115  \n",
       "76       1415.52592        3.087532  \n",
       "4        1493.85592        3.227707  \n",
       "15       5732.59602       -0.216829  \n",
       "58       1461.30592        3.304642  \n",
       "26       1926.28602        3.183055  "
      ]
     },
     "execution_count": 7,
     "metadata": {},
     "output_type": "execute_result"
    }
   ],
   "source": [
    "sorted_luis_full.head(10)"
   ]
  },
  {
   "cell_type": "code",
   "execution_count": 8,
   "metadata": {},
   "outputs": [
    {
     "data": {
      "text/plain": [
       "4.236627073655809"
      ]
     },
     "execution_count": 8,
     "metadata": {},
     "output_type": "execute_result"
    }
   ],
   "source": [
    "sorted_luis_full['undp_hdi_zcore'].mean() # -3.6524598322441455\n",
    "sorted_luis_full['gle_cgdpc_zcore'].mean() # 16868.418902418955\n",
    "sorted_luis_full['wdi_exph_zcore'].mean() # 4.236627073655809"
   ]
  },
  {
   "cell_type": "markdown",
   "metadata": {},
   "source": [
    "###### Z-Score de los primeros 10 resgistros"
   ]
  },
  {
   "cell_type": "code",
   "execution_count": 9,
   "metadata": {},
   "outputs": [
    {
     "data": {
      "text/html": [
       "<div>\n",
       "<style scoped>\n",
       "    .dataframe tbody tr th:only-of-type {\n",
       "        vertical-align: middle;\n",
       "    }\n",
       "\n",
       "    .dataframe tbody tr th {\n",
       "        vertical-align: top;\n",
       "    }\n",
       "\n",
       "    .dataframe thead th {\n",
       "        text-align: right;\n",
       "    }\n",
       "</style>\n",
       "<table border=\"1\" class=\"dataframe\">\n",
       "  <thead>\n",
       "    <tr style=\"text-align: right;\">\n",
       "      <th></th>\n",
       "      <th>Unnamed: 0</th>\n",
       "      <th>undp_hdi</th>\n",
       "      <th>ccodealp</th>\n",
       "      <th>ht_region</th>\n",
       "      <th>gle_cgdpc</th>\n",
       "      <th>imf_pop</th>\n",
       "      <th>wef_imort</th>\n",
       "      <th>who_alc2000</th>\n",
       "      <th>who_tobt</th>\n",
       "      <th>wdi_exph</th>\n",
       "      <th>undp_hdi_zcore</th>\n",
       "      <th>gle_cgdpc_zcore</th>\n",
       "      <th>wdi_exph_zcore</th>\n",
       "    </tr>\n",
       "  </thead>\n",
       "  <tbody>\n",
       "    <tr>\n",
       "      <th>82</th>\n",
       "      <td>101</td>\n",
       "      <td>0.896</td>\n",
       "      <td>LUX</td>\n",
       "      <td>WesternDem</td>\n",
       "      <td>61404.480</td>\n",
       "      <td>0.550000</td>\n",
       "      <td>1.7</td>\n",
       "      <td>11.12</td>\n",
       "      <td>24.400000</td>\n",
       "      <td>6.937873</td>\n",
       "      <td>-3.498404</td>\n",
       "      <td>61403.70592</td>\n",
       "      <td>4.445290</td>\n",
       "    </tr>\n",
       "    <tr>\n",
       "      <th>83</th>\n",
       "      <td>81</td>\n",
       "      <td>0.898</td>\n",
       "      <td>ISR</td>\n",
       "      <td>NorthAfrica</td>\n",
       "      <td>25926.250</td>\n",
       "      <td>8.212000</td>\n",
       "      <td>3.3</td>\n",
       "      <td>2.62</td>\n",
       "      <td>30.400000</td>\n",
       "      <td>7.808308</td>\n",
       "      <td>-3.496404</td>\n",
       "      <td>25925.47592</td>\n",
       "      <td>5.315724</td>\n",
       "    </tr>\n",
       "    <tr>\n",
       "      <th>91</th>\n",
       "      <td>85</td>\n",
       "      <td>0.902</td>\n",
       "      <td>JPN</td>\n",
       "      <td>EastAsia</td>\n",
       "      <td>36123.770</td>\n",
       "      <td>127.120003</td>\n",
       "      <td>2.2</td>\n",
       "      <td>7.55</td>\n",
       "      <td>22.799999</td>\n",
       "      <td>10.228745</td>\n",
       "      <td>-3.492404</td>\n",
       "      <td>36122.99592</td>\n",
       "      <td>7.736161</td>\n",
       "    </tr>\n",
       "    <tr>\n",
       "      <th>3</th>\n",
       "      <td>123</td>\n",
       "      <td>0.913</td>\n",
       "      <td>NZL</td>\n",
       "      <td>WesternDem</td>\n",
       "      <td>26481.369</td>\n",
       "      <td>4.555000</td>\n",
       "      <td>4.7</td>\n",
       "      <td>9.07</td>\n",
       "      <td>17.600000</td>\n",
       "      <td>11.029610</td>\n",
       "      <td>-3.481404</td>\n",
       "      <td>26480.59492</td>\n",
       "      <td>8.537026</td>\n",
       "    </tr>\n",
       "    <tr>\n",
       "      <th>34</th>\n",
       "      <td>80</td>\n",
       "      <td>0.920</td>\n",
       "      <td>IRL</td>\n",
       "      <td>WesternDem</td>\n",
       "      <td>46422.070</td>\n",
       "      <td>4.621000</td>\n",
       "      <td>3.4</td>\n",
       "      <td>10.75</td>\n",
       "      <td>23.200001</td>\n",
       "      <td>7.783196</td>\n",
       "      <td>-3.474404</td>\n",
       "      <td>46421.29592</td>\n",
       "      <td>5.290613</td>\n",
       "    </tr>\n",
       "    <tr>\n",
       "      <th>11</th>\n",
       "      <td>121</td>\n",
       "      <td>0.923</td>\n",
       "      <td>NLD</td>\n",
       "      <td>WesternDem</td>\n",
       "      <td>42258.352</td>\n",
       "      <td>16.865000</td>\n",
       "      <td>3.4</td>\n",
       "      <td>8.68</td>\n",
       "      <td>25.700001</td>\n",
       "      <td>10.897293</td>\n",
       "      <td>-3.471404</td>\n",
       "      <td>42257.57792</td>\n",
       "      <td>8.404709</td>\n",
       "    </tr>\n",
       "    <tr>\n",
       "      <th>88</th>\n",
       "      <td>64</td>\n",
       "      <td>0.924</td>\n",
       "      <td>DEU</td>\n",
       "      <td>WesternDem</td>\n",
       "      <td>39486.699</td>\n",
       "      <td>80.983002</td>\n",
       "      <td>3.4</td>\n",
       "      <td>11.03</td>\n",
       "      <td>30.700001</td>\n",
       "      <td>11.297001</td>\n",
       "      <td>-3.470404</td>\n",
       "      <td>39485.92492</td>\n",
       "      <td>8.804417</td>\n",
       "    </tr>\n",
       "    <tr>\n",
       "      <th>5</th>\n",
       "      <td>155</td>\n",
       "      <td>0.924</td>\n",
       "      <td>SGP</td>\n",
       "      <td>SouthEastAsia</td>\n",
       "      <td>54268.148</td>\n",
       "      <td>5.470000</td>\n",
       "      <td>2.3</td>\n",
       "      <td>1.83</td>\n",
       "      <td>16.200001</td>\n",
       "      <td>4.922792</td>\n",
       "      <td>-3.470404</td>\n",
       "      <td>54267.37392</td>\n",
       "      <td>2.430208</td>\n",
       "    </tr>\n",
       "    <tr>\n",
       "      <th>16</th>\n",
       "      <td>8</td>\n",
       "      <td>0.937</td>\n",
       "      <td>AUS</td>\n",
       "      <td>WesternDem</td>\n",
       "      <td>38611.949</td>\n",
       "      <td>23.621000</td>\n",
       "      <td>4.1</td>\n",
       "      <td>9.71</td>\n",
       "      <td>16.000000</td>\n",
       "      <td>9.422300</td>\n",
       "      <td>-3.457404</td>\n",
       "      <td>38611.17492</td>\n",
       "      <td>6.929717</td>\n",
       "    </tr>\n",
       "    <tr>\n",
       "      <th>49</th>\n",
       "      <td>127</td>\n",
       "      <td>0.948</td>\n",
       "      <td>NOR</td>\n",
       "      <td>WesternDem</td>\n",
       "      <td>57634.770</td>\n",
       "      <td>5.156000</td>\n",
       "      <td>2.2</td>\n",
       "      <td>6.06</td>\n",
       "      <td>24.100000</td>\n",
       "      <td>9.719718</td>\n",
       "      <td>-3.446404</td>\n",
       "      <td>57633.99592</td>\n",
       "      <td>7.227134</td>\n",
       "    </tr>\n",
       "  </tbody>\n",
       "</table>\n",
       "</div>"
      ],
      "text/plain": [
       "    Unnamed: 0  undp_hdi ccodealp      ht_region  gle_cgdpc     imf_pop  \\\n",
       "82         101     0.896      LUX     WesternDem  61404.480    0.550000   \n",
       "83          81     0.898      ISR    NorthAfrica  25926.250    8.212000   \n",
       "91          85     0.902      JPN       EastAsia  36123.770  127.120003   \n",
       "3          123     0.913      NZL     WesternDem  26481.369    4.555000   \n",
       "34          80     0.920      IRL     WesternDem  46422.070    4.621000   \n",
       "11         121     0.923      NLD     WesternDem  42258.352   16.865000   \n",
       "88          64     0.924      DEU     WesternDem  39486.699   80.983002   \n",
       "5          155     0.924      SGP  SouthEastAsia  54268.148    5.470000   \n",
       "16           8     0.937      AUS     WesternDem  38611.949   23.621000   \n",
       "49         127     0.948      NOR     WesternDem  57634.770    5.156000   \n",
       "\n",
       "    wef_imort  who_alc2000   who_tobt   wdi_exph  undp_hdi_zcore  \\\n",
       "82        1.7        11.12  24.400000   6.937873       -3.498404   \n",
       "83        3.3         2.62  30.400000   7.808308       -3.496404   \n",
       "91        2.2         7.55  22.799999  10.228745       -3.492404   \n",
       "3         4.7         9.07  17.600000  11.029610       -3.481404   \n",
       "34        3.4        10.75  23.200001   7.783196       -3.474404   \n",
       "11        3.4         8.68  25.700001  10.897293       -3.471404   \n",
       "88        3.4        11.03  30.700001  11.297001       -3.470404   \n",
       "5         2.3         1.83  16.200001   4.922792       -3.470404   \n",
       "16        4.1         9.71  16.000000   9.422300       -3.457404   \n",
       "49        2.2         6.06  24.100000   9.719718       -3.446404   \n",
       "\n",
       "    gle_cgdpc_zcore  wdi_exph_zcore  \n",
       "82      61403.70592        4.445290  \n",
       "83      25925.47592        5.315724  \n",
       "91      36122.99592        7.736161  \n",
       "3       26480.59492        8.537026  \n",
       "34      46421.29592        5.290613  \n",
       "11      42257.57792        8.404709  \n",
       "88      39485.92492        8.804417  \n",
       "5       54267.37392        2.430208  \n",
       "16      38611.17492        6.929717  \n",
       "49      57633.99592        7.227134  "
      ]
     },
     "execution_count": 9,
     "metadata": {},
     "output_type": "execute_result"
    }
   ],
   "source": [
    "sorted_luis_full.tail(10)"
   ]
  },
  {
   "cell_type": "code",
   "execution_count": 10,
   "metadata": {},
   "outputs": [
    {
     "data": {
      "text/plain": [
       "EastEurope       14\n",
       "WesternDem        9\n",
       "SubSaharian       9\n",
       "NorthAfrica       8\n",
       "SouthEastAsia     6\n",
       "LatAm             3\n",
       "SouthAsia         3\n",
       "Caribbean         1\n",
       "EastAsia          1\n",
       "Name: ht_region, dtype: int64"
      ]
     },
     "execution_count": 10,
     "metadata": {},
     "output_type": "execute_result"
    }
   ],
   "source": [
    "sorted_luis_full['ht_region'].value_counts()"
   ]
  },
  {
   "cell_type": "markdown",
   "metadata": {},
   "source": [
    "## 4. Estime el puntaje z de las regiones"
   ]
  },
  {
   "cell_type": "code",
   "execution_count": 11,
   "metadata": {},
   "outputs": [
    {
     "data": {
      "image/png": "[encoded data removed]",
      "text/plain": [
       "<Figure size 432x288 with 1 Axes>"
      ]
     },
     "metadata": {
      "needs_background": "light"
     },
     "output_type": "display_data"
    }
   ],
   "source": [
    "graficar_dotplot(sorted_luis_full,'undp_hdi_zcore','ht_region',False,'zscore')"
   ]
  },
  {
   "cell_type": "markdown",
   "metadata": {},
   "source": [
    "## 5. Genere un método que devuelva un gráfico comparando dos curvas de densidad"
   ]
  },
  {
   "cell_type": "code",
   "execution_count": 47,
   "metadata": {
    "scrolled": false
   },
   "outputs": [
    {
     "name": "stdout",
     "output_type": "stream",
     "text": [
      "0    0.923\n",
      "1      NaN\n",
      "2    0.790\n",
      "3    0.924\n",
      "4      NaN\n",
      "Name: undp_hdi, dtype: float64\n",
      "0    0.515\n",
      "1    0.769\n",
      "2    0.394\n",
      "3    0.913\n",
      "4    0.550\n",
      "Name: undp_hdi, dtype: float64\n"
     ]
    }
   ],
   "source": [
    "\n",
    "mi_df = pd.read_csv('subsample_JFGP_demo.csv')\n",
    "print(mi_df['undp_hdi'].head())\n",
    "print(df_luis['undp_hdi'].head())"
   ]
  },
  {
   "cell_type": "markdown",
   "metadata": {
    "scrolled": false
   },
   "source": [
    "<font color=blue>El __método__ debe contener los siguientes argumentos</font>:<br>\n",
    "df1 : Tabla de datos 1.<br>\n",
    "df2 : Tabla de datos 2.<br>\n",
    "variable : Variable a contrastar.<br>\n",
    "log : Booleano. Si es True transformar la variable al logaritmo. Por defecto debe ser\n",
    "False .<br>\n",
    "Grafique las curvas para <font color=green>__imf_pop__</font> , <font color=gold>__gle_cgdpc__</font> y <font color=red>__undp_hdi__</font> . "
   ]
  },
  {
   "cell_type": "code",
   "execution_count": 86,
   "metadata": {},
   "outputs": [],
   "source": [
    "from scipy import stats\n",
    "def desafio5(df1,df2,variable,log=False):   \n",
    "    if log:\n",
    "        var1 = np.log(df1[variable].dropna())\n",
    "        var2 = np.log(df2[variable].dropna())\n",
    "    else:\n",
    "        var1 = df1[variable].dropna()\n",
    "        var2 = df2[variable].dropna()\n",
    "        \n",
    "    #x_min, x_max = plt.xlim()\n",
    "    x_axis = np.linspace(0, var1.max(), 100)        \n",
    "    plt.plot(x_axis, stats.norm.pdf(x_axis,var1.mean(),var1.std()),color='tomato', lw=3)\n",
    "\n",
    "    x_min2, x_max2 = plt.xlim()\n",
    "    x_axis2 = np.linspace(0, var2.max(), 100)\n",
    "    plt.plot(x_axis2, stats.norm.pdf(x_axis2,var2.mean(),var2.std()),color='black', lw=3)\n",
    "\n",
    "    "
   ]
  },
  {
   "cell_type": "markdown",
   "metadata": {},
   "source": [
    "#### Curva para <font color=red> undp_hdi </font>"
   ]
  },
  {
   "cell_type": "code",
   "execution_count": 91,
   "metadata": {},
   "outputs": [
    {
     "data": {
      "image/png": "[encoded data removed]",
      "text/plain": [
       "<Figure size 432x288 with 1 Axes>"
      ]
     },
     "metadata": {
      "needs_background": "light"
     },
     "output_type": "display_data"
    }
   ],
   "source": [
    "desafio5(df_luis,mi_df,'undp_hdi',False)"
   ]
  },
  {
   "cell_type": "code",
   "execution_count": 92,
   "metadata": {},
   "outputs": [
    {
     "data": {
      "image/png": "[encoded data removed]",
      "text/plain": [
       "<Figure size 432x288 with 1 Axes>"
      ]
     },
     "metadata": {
      "needs_background": "light"
     },
     "output_type": "display_data"
    }
   ],
   "source": [
    "desafio5(df_luis,mi_df,'undp_hdi',True)"
   ]
  },
  {
   "cell_type": "markdown",
   "metadata": {},
   "source": [
    "#### Curva para <font color=red> gle_cgdpc </font>"
   ]
  },
  {
   "cell_type": "code",
   "execution_count": 93,
   "metadata": {},
   "outputs": [
    {
     "data": {
      "image/png": "[encoded data removed]",
      "text/plain": [
       "<Figure size 432x288 with 1 Axes>"
      ]
     },
     "metadata": {
      "needs_background": "light"
     },
     "output_type": "display_data"
    }
   ],
   "source": [
    "desafio5(df_luis,mi_df,'gle_cgdpc',False)"
   ]
  },
  {
   "cell_type": "code",
   "execution_count": 94,
   "metadata": {},
   "outputs": [
    {
     "data": {
      "image/png": "[encoded data removed]",
      "text/plain": [
       "<Figure size 432x288 with 1 Axes>"
      ]
     },
     "metadata": {
      "needs_background": "light"
     },
     "output_type": "display_data"
    }
   ],
   "source": [
    "desafio5(df_luis,mi_df,'gle_cgdpc',True)"
   ]
  },
  {
   "cell_type": "markdown",
   "metadata": {},
   "source": [
    "#### Curva para <font color=red> imf_pop </font>"
   ]
  },
  {
   "cell_type": "code",
   "execution_count": 97,
   "metadata": {},
   "outputs": [
    {
     "data": {
      "image/png": "[encoded data removed]",
      "text/plain": [
       "<Figure size 432x288 with 1 Axes>"
      ]
     },
     "metadata": {
      "needs_background": "light"
     },
     "output_type": "display_data"
    }
   ],
   "source": [
    "desafio5(df_luis,mi_df,'imf_pop',False)"
   ]
  },
  {
   "cell_type": "code",
   "execution_count": 98,
   "metadata": {},
   "outputs": [
    {
     "data": {
      "image/png": "[encoded data removed]",
      "text/plain": [
       "<Figure size 432x288 with 1 Axes>"
      ]
     },
     "metadata": {
      "needs_background": "light"
     },
     "output_type": "display_data"
    }
   ],
   "source": [
    "desafio5(df_luis,mi_df,'imf_pop',True)"
   ]
  },
  {
   "cell_type": "markdown",
   "metadata": {},
   "source": [
    "### ¿En qué casos es necesario utilizar logaritmos? ¿Por qué?\n",
    "En el caso de undp_hdi __NO__ es necesario aplicar logaritmo porque su distribución es normal, a diferencia de imf_pop y gle_cgdpc donde __SI__ es necesario "
   ]
  },
  {
   "cell_type": "code",
   "execution_count": null,
   "metadata": {},
   "outputs": [],
   "source": []
  }
 ],
 "metadata": {
  "kernelspec": {
   "display_name": "Python 3",
   "language": "python",
   "name": "python3"
  },
  "language_info": {
   "codemirror_mode": {
    "name": "ipython",
    "version": 3
   },
   "file_extension": ".py",
   "mimetype": "text/x-python",
   "name": "python",
   "nbconvert_exporter": "python",
   "pygments_lexer": "ipython3",
   "version": "3.6.7"
  }
 },
 "nbformat": 4,
 "nbformat_minor": 2
}
