{
 "cells": [
  {
   "cell_type": "markdown",
   "metadata": {},
   "source": [
    "# Desafío - Estimando curvas normales\n",
    "## Jose Gomez\n",
    "\n",
    "## 1. Importe un csv desde internet\n",
    "Utilice la base de datos de un compañero creada en la sesión pasada."
   ]
  },
  {
   "cell_type": "code",
   "execution_count": 1,
   "metadata": {},
   "outputs": [
    {
     "data": {
      "text/plain": [
       "Index(['Unnamed: 0', 'undp_hdi', 'ccodealp', 'ht_region', 'gle_cgdpc',\n",
       "       'imf_pop', 'wef_imort', 'who_alc2000', 'who_tobt', 'wdi_exph'],\n",
       "      dtype='object')"
      ]
     },
     "execution_count": 1,
     "metadata": {},
     "output_type": "execute_result"
    }
   ],
   "source": [
    "import pandas as pd\n",
    "import numpy as np\n",
    "import matplotlib.pyplot as plt\n",
    "\n",
    "df_luis = pd.read_csv(\"subsample_LAPP_demo.csv\")\n",
    "df_luis.columns"
   ]
  },
  {
   "cell_type": "markdown",
   "metadata": {},
   "source": [
    "## 2. Importe su conjunto de funciones\n",
    "Genere un archivo ancilliary_funcs.py para guardar las funciones creadas en la sesión\n",
    "pasada e impórtelo.\n",
    "Utilice las funciones creadas para inspeccionar la cantidad de casos perdidos de la muestra de\n",
    "su compañero."
   ]
  },
  {
   "cell_type": "code",
   "execution_count": 2,
   "metadata": {},
   "outputs": [
    {
     "data": {
      "text/plain": [
       "(4, 4.12)"
      ]
     },
     "execution_count": 2,
     "metadata": {},
     "output_type": "execute_result"
    }
   ],
   "source": [
    "from ancilliary_funcs import desafio_2\n",
    "from ancilliary_funcs import grafica_hist\n",
    "from ancilliary_funcs import graficar_dotplot\n",
    "from ancilliary_funcs import obs_perdidas \n",
    "\n",
    "#grafica_hist(df_luis,'undp_hdi',True,True) \n",
    "obs_perdidas(df_luis,'undp_hdi') # Cantidad de datos perdidos y el % respecto al total"
   ]
  },
  {
   "cell_type": "code",
   "execution_count": 3,
   "metadata": {},
   "outputs": [
    {
     "name": "stdout",
     "output_type": "stream",
     "text": [
      "['undp_hdi', (4, 4.12), 'ccodealp', (0, 0.0), 'ht_region', (0, 0.0), 'gle_cgdpc', (0, 0.0), 'imf_pop', (23, 23.71), 'wef_imort', (18, 18.56), 'who_alc2000', (4, 4.12), 'who_tobt', (31, 31.96), 'wdi_exph', (1, 1.03)]\n"
     ]
    }
   ],
   "source": [
    "cantidad_datos_perdidos = []\n",
    "for i,columna in enumerate(df_luis):\n",
    "    if i > 0:\n",
    "        cantidad_datos_perdidos.append(columna)\n",
    "        cantidad_datos_perdidos.append(obs_perdidas(df_luis,columna))\n",
    "print(cantidad_datos_perdidos)"
   ]
  },
  {
   "cell_type": "markdown",
   "metadata": {},
   "source": [
    "#### z-score de cada una de las columnas"
   ]
  },
  {
   "cell_type": "code",
   "execution_count": 4,
   "metadata": {},
   "outputs": [
    {
     "name": "stdout",
     "output_type": "stream",
     "text": [
      "\n",
      "Las columnas numéricas y con menor cantidad de datos perdidos son:\n",
      "undp_hdi , gle_cgdpc , wdi_exph\n"
     ]
    }
   ],
   "source": [
    "#print(df_luis.dtypes) # imprime el tipo de cada columna\n",
    "print(\"\\nLas columnas numéricas y con menor cantidad de datos perdidos son:\\nundp_hdi , gle_cgdpc , wdi_exph\")\n",
    "columnas_menos_na = ['undp_hdi' , 'gle_cgdpc' , 'wdi_exph']\n"
   ]
  },
  {
   "cell_type": "markdown",
   "metadata": {},
   "source": [
    "## 3. Estime el puntaje Z\n",
    "Estime el puntaze Z para las 10 primeras y últimas observaciones de las variables con una menor\n",
    "cantidad de datos perdidos"
   ]
  },
  {
   "cell_type": "code",
   "execution_count": 5,
   "metadata": {},
   "outputs": [],
   "source": [
    "df_luis_10_p = df_luis.head(10)\n",
    "df_luis_10_u = df_luis.tail(10)"
   ]
  },
  {
   "cell_type": "code",
   "execution_count": 6,
   "metadata": {
    "scrolled": true
   },
   "outputs": [],
   "source": [
    "# Primera forma de cómo lo hice... pero mejor lo que hice después, con funcion\n",
    "#df_10lines = pd.DataFrame()\n",
    "#for i,colname in enumerate(columnas_menos_na):\n",
    "#    primeras_10 = df_luis[colname].dropna().head(10).reset_index(drop=True)\n",
    "#    ultimas_10 = df_luis[colname].dropna().tail(10).reset_index(drop=True)\n",
    "\n",
    "#    mean_10_p = primeras_10.mean()\n",
    "#    std_10_p = primeras_10.std()\n",
    "    \n",
    "#    mean_10_u = ultimas_10.mean()\n",
    "#    std_10_u = ultimas_10.std()\n",
    "        \n",
    "#    df_10lines[f'{colname}_10_p'] = primeras_10\n",
    "#    df_10lines[f'{colname}_z_score_p'] = primeras_10 - mean_10_p / std_10_p\n",
    "#    df_10lines[f'{colname}_10_u'] = ultimas_10\n",
    "#    df_10lines[f'{colname}_z_score_u'] = ultimas_10 - mean_10_u / std_10_u\n",
    "\n",
    "#df_10lines"
   ]
  },
  {
   "cell_type": "code",
   "execution_count": 7,
   "metadata": {},
   "outputs": [],
   "source": [
    "def get_z_score(dataframe, cols):\n",
    "    \"\"\"\n",
    "    Esta funcion retorna un sub dataframe de \"dataframe\" el cual contiene los z-scores de [cols]\n",
    "    \"\"\"\n",
    "    df_z_scores = pd.DataFrame()\n",
    "    for i in cols:\n",
    "        droped_na = dataframe[i].dropna()\n",
    "        mean_drop = droped_na.mean()\n",
    "        std_drop = droped_na.std()\n",
    "        z_score = droped_na - mean_drop / std_drop\n",
    "        \n",
    "        df_z_scores[f'{i}_zcore'] = z_score\n",
    "    return df_z_scores\n",
    "    "
   ]
  },
  {
   "cell_type": "markdown",
   "metadata": {},
   "source": [
    "Z-Score de los primeros 10 resgistros"
   ]
  },
  {
   "cell_type": "code",
   "execution_count": 8,
   "metadata": {
    "scrolled": true
   },
   "outputs": [],
   "source": [
    "# Concateno el dataframe con los primeros 10 resgistros junto al dataframe retornado por la función \"get_z_score\"\n",
    "df_10_p = pd.concat([df_luis_10_p, get_z_score(df_luis_10_p,columnas_menos_na)],axis=1)"
   ]
  },
  {
   "cell_type": "markdown",
   "metadata": {},
   "source": [
    "Z-Score de los ultimos 10 resgistros"
   ]
  },
  {
   "cell_type": "code",
   "execution_count": 9,
   "metadata": {},
   "outputs": [],
   "source": [
    "df_10_u = pd.concat([df_luis_10_u, get_z_score(df_luis_10_u,columnas_menos_na)],axis=1)"
   ]
  },
  {
   "cell_type": "code",
   "execution_count": 10,
   "metadata": {},
   "outputs": [],
   "source": [
    "sorted_10_p = df_10_p.sort_values(by=['undp_hdi_zcore','gle_cgdpc_zcore','wdi_exph_zcore'])"
   ]
  },
  {
   "cell_type": "code",
   "execution_count": 11,
   "metadata": {},
   "outputs": [],
   "source": [
    "sorted_10_u = df_10_u.sort_values(by=['undp_hdi_zcore','gle_cgdpc_zcore','wdi_exph_zcore'])"
   ]
  },
  {
   "cell_type": "code",
   "execution_count": 12,
   "metadata": {},
   "outputs": [
    {
     "data": {
      "text/plain": [
       "-3.1794672906921972"
      ]
     },
     "execution_count": 12,
     "metadata": {},
     "output_type": "execute_result"
    }
   ],
   "source": [
    "df_10_p['undp_hdi_zcore'].mean()"
   ]
  },
  {
   "cell_type": "markdown",
   "metadata": {},
   "source": [
    "### Seleccionen las primeras y últimas 10 observaciones de la base reordenada. ¿Qué características en común se encuentran?"
   ]
  },
  {
   "cell_type": "code",
   "execution_count": 13,
   "metadata": {},
   "outputs": [
    {
     "data": {
      "text/plain": [
       "pandas.core.series.Series"
      ]
     },
     "execution_count": 13,
     "metadata": {},
     "output_type": "execute_result"
    }
   ],
   "source": [
    "type(sorted_10_p['undp_hdi_zcore'])"
   ]
  },
  {
   "cell_type": "markdown",
   "metadata": {},
   "source": [
    "## 4. Estime el puntaje z de las regiones"
   ]
  },
  {
   "cell_type": "code",
   "execution_count": 15,
   "metadata": {},
   "outputs": [
    {
     "name": "stdout",
     "output_type": "stream",
     "text": [
      "asdasdasd\n"
     ]
    },
    {
     "data": {
      "image/png": "[encoded data removed]",
      "text/plain": [
       "<Figure size 432x288 with 1 Axes>"
      ]
     },
     "metadata": {
      "needs_background": "light"
     },
     "output_type": "display_data"
    }
   ],
   "source": [
    "graficar_dotplot(sorted_10_p,'undp_hdi_zcore','ht_region',True,'zscore')"
   ]
  },
  {
   "cell_type": "code",
   "execution_count": null,
   "metadata": {},
   "outputs": [],
   "source": []
  }
 ],
 "metadata": {
  "kernelspec": {
   "display_name": "Python 3",
   "language": "python",
   "name": "python3"
  },
  "language_info": {
   "codemirror_mode": {
    "name": "ipython",
    "version": 3
   },
   "file_extension": ".py",
   "mimetype": "text/x-python",
   "name": "python",
   "nbconvert_exporter": "python",
   "pygments_lexer": "ipython3",
   "version": "3.6.7"
  }
 },
 "nbformat": 4,
 "nbformat_minor": 2
}
