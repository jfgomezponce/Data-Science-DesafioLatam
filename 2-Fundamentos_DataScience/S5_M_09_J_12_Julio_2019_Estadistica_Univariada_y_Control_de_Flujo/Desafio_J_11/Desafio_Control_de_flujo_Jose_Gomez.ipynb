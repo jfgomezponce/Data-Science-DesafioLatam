{
 "cells": [
  {
   "cell_type": "markdown",
   "metadata": {},
   "source": [
    "# <center> Desafio 2 - Control de Flujo\n",
    "## Jose Gomez "
   ]
  },
  {
   "cell_type": "markdown",
   "metadata": {},
   "source": [
    "# Desafio 1"
   ]
  },
  {
   "cell_type": "code",
   "execution_count": 1,
   "metadata": {},
   "outputs": [],
   "source": [
    "import numpy as np"
   ]
  },
  {
   "cell_type": "code",
   "execution_count": 2,
   "metadata": {},
   "outputs": [],
   "source": [
    "array_1_50 = np.linspace(1,50)\n",
    "#array_50_150 = np.linspace(50,150,101)\n",
    "array_50_150 = np.linspace(50,150,dtype=int)"
   ]
  },
  {
   "cell_type": "markdown",
   "metadata": {},
   "source": [
    "# Desafio 2"
   ]
  },
  {
   "cell_type": "code",
   "execution_count": 3,
   "metadata": {},
   "outputs": [
    {
     "name": "stdout",
     "output_type": "stream",
     "text": [
      "(1.0, 'es impar')\n",
      "(2.0, 'es par')\n",
      "(3.0, 'es impar')\n",
      "(4.0, 'es par')\n",
      "(5.0, 'es impar')\n",
      "(6.0, 'es par')\n",
      "(7.0, 'es impar')\n",
      "(8.0, 'es par')\n",
      "(9.0, 'es impar')\n",
      "(10.0, 'es par')\n",
      "(11.0, 'es impar')\n",
      "(12.0, 'es par')\n",
      "(13.0, 'es impar')\n",
      "(14.0, 'es par')\n",
      "(15.0, 'es impar')\n",
      "(16.0, 'es par')\n",
      "(17.0, 'es impar')\n",
      "(18.0, 'es par')\n",
      "(19.0, 'es impar')\n",
      "(20.0, 'es par')\n",
      "(21.0, 'es impar')\n",
      "(22.0, 'es par')\n",
      "(23.0, 'es impar')\n",
      "(24.0, 'es par')\n",
      "(25.0, 'es impar')\n",
      "(26.0, 'es par')\n",
      "(27.0, 'es impar')\n",
      "(28.0, 'es par')\n",
      "(29.0, 'es impar')\n",
      "(30.0, 'es par')\n",
      "(31.0, 'es impar')\n",
      "(32.0, 'es par')\n",
      "(33.0, 'es impar')\n",
      "(34.0, 'es par')\n",
      "(35.0, 'es impar')\n",
      "(36.0, 'es par')\n",
      "(37.0, 'es impar')\n",
      "(38.0, 'es par')\n",
      "(39.0, 'es impar')\n",
      "(40.0, 'es par')\n",
      "(41.0, 'es impar')\n",
      "(42.0, 'es par')\n",
      "(43.0, 'es impar')\n",
      "(44.0, 'es par')\n",
      "(45.0, 'es impar')\n",
      "(46.0, 'es par')\n",
      "(47.0, 'es impar')\n",
      "(48.0, 'es par')\n",
      "(49.0, 'es impar')\n",
      "(50.0, 'es par')\n"
     ]
    }
   ],
   "source": [
    "for i in array_1_50:\n",
    "    if i % 2 == 0: print(i,\"es par\")\n",
    "    else: print(i,\"es impar\")"
   ]
  },
  {
   "cell_type": "markdown",
   "metadata": {},
   "source": [
    "# Desafio 3"
   ]
  },
  {
   "cell_type": "code",
   "execution_count": 4,
   "metadata": {},
   "outputs": [
    {
     "name": "stdout",
     "output_type": "stream",
     "text": [
      "números divisibles por 2 o 3: 34\n",
      "números divisibles por 2 y 3: 9\n",
      "números divisibles por 3 pero no por 2: 8\n",
      "números no divisibles por 2 ni 3: 16\n"
     ]
    }
   ],
   "source": [
    "div_2_o_3 = 0\n",
    "div_2_y_3 = 0\n",
    "div_3_no_2 = 0\n",
    "no_div_3_ni_2 = 0\n",
    "\n",
    "for i in array_50_150:\n",
    "\tif (i % 2==0) or (i % 3==0):\tdiv_2_o_3 +=1\n",
    "\tif (i % 2==0) and (i % 3==0):\tdiv_2_y_3 +=1\n",
    "\tif (i % 3 == 0) and (i % 2 != 0): div_3_no_2 +=1\n",
    "\tif (i % 2 != 0) and (i % 3 != 0): no_div_3_ni_2 +=1\n",
    "        \n",
    "print(\"números divisibles por 2 o 3: {}\\n\\\n",
    "números divisibles por 2 y 3: {}\\n\\\n",
    "números divisibles por 3 pero no por 2: {}\\n\\\n",
    "números no divisibles por 2 ni 3: {}\".format(div_2_o_3,div_2_y_3,div_3_no_2,no_div_3_ni_2))"
   ]
  },
  {
   "cell_type": "markdown",
   "metadata": {},
   "source": [
    "# Desafio 4"
   ]
  },
  {
   "cell_type": "code",
   "execution_count": 5,
   "metadata": {},
   "outputs": [
    {
     "name": "stdout",
     "output_type": "stream",
     "text": [
      "0\n",
      "1\n",
      "4\n",
      "9\n",
      "16\n",
      "25\n",
      "36\n",
      "49\n",
      "64\n",
      "81\n",
      "100\n",
      "121\n",
      "144\n",
      "169\n",
      "196\n",
      "225\n",
      "256\n",
      "289\n",
      "324\n",
      "361\n",
      "400\n",
      "441\n",
      "484\n",
      "529\n",
      "576\n",
      "625\n",
      "676\n",
      "729\n",
      "784\n",
      "841\n",
      "900\n",
      "961\n",
      "1024\n",
      "1089\n",
      "1156\n",
      "1225\n",
      "1296\n",
      "1369\n",
      "1444\n",
      "1521\n",
      "1600\n",
      "1681\n",
      "1764\n",
      "1849\n",
      "1936\n",
      "2025\n",
      "2116\n",
      "2209\n",
      "2304\n",
      "2401\n",
      "2500\n",
      "2601\n",
      "2704\n",
      "2809\n",
      "2916\n",
      "3025\n",
      "3136\n",
      "3249\n",
      "3364\n",
      "3481\n",
      "3600\n",
      "3721\n",
      "3844\n",
      "3969\n",
      "4096\n",
      "4225\n",
      "4356\n",
      "4489\n",
      "4624\n",
      "4761\n",
      "4900\n",
      "5041\n",
      "5184\n",
      "5329\n",
      "5476\n",
      "5625\n",
      "5776\n",
      "5929\n",
      "6084\n",
      "6241\n",
      "6400\n",
      "6561\n",
      "6724\n",
      "6889\n",
      "7056\n",
      "7225\n",
      "7396\n",
      "7569\n",
      "7744\n",
      "7921\n",
      "8100\n",
      "8281\n",
      "8464\n",
      "8649\n",
      "8836\n",
      "9025\n",
      "9216\n",
      "9409\n",
      "9604\n",
      "9801\n"
     ]
    }
   ],
   "source": [
    "for i in range(100):\n",
    "    print(i**2) # I debe ser reemplazado por i para acceder al elemento"
   ]
  },
  {
   "cell_type": "markdown",
   "metadata": {},
   "source": [
    "# Desafio 5"
   ]
  },
  {
   "cell_type": "code",
   "execution_count": 6,
   "metadata": {},
   "outputs": [],
   "source": [
    "import pandas as pd"
   ]
  },
  {
   "cell_type": "code",
   "execution_count": 7,
   "metadata": {},
   "outputs": [],
   "source": [
    "df = pd.read_csv('flights.csv')"
   ]
  },
  {
   "cell_type": "code",
   "execution_count": 8,
   "metadata": {},
   "outputs": [],
   "source": [
    "media = df['passengers'].mean()"
   ]
  },
  {
   "cell_type": "code",
   "execution_count": 9,
   "metadata": {},
   "outputs": [],
   "source": [
    "## medio_passengers = np.mean(df['passengers'])"
   ]
  },
  {
   "cell_type": "code",
   "execution_count": 10,
   "metadata": {},
   "outputs": [
    {
     "data": {
      "text/plain": [
       "280.2986111111111"
      ]
     },
     "execution_count": 10,
     "metadata": {},
     "output_type": "execute_result"
    }
   ],
   "source": [
    "media"
   ]
  },
  {
   "cell_type": "code",
   "execution_count": 11,
   "metadata": {},
   "outputs": [
    {
     "data": {
      "text/html": [
       "<div>\n",
       "<style scoped>\n",
       "    .dataframe tbody tr th:only-of-type {\n",
       "        vertical-align: middle;\n",
       "    }\n",
       "\n",
       "    .dataframe tbody tr th {\n",
       "        vertical-align: top;\n",
       "    }\n",
       "\n",
       "    .dataframe thead th {\n",
       "        text-align: right;\n",
       "    }\n",
       "</style>\n",
       "<table border=\"1\" class=\"dataframe\">\n",
       "  <thead>\n",
       "    <tr style=\"text-align: right;\">\n",
       "      <th></th>\n",
       "      <th>year</th>\n",
       "      <th>month</th>\n",
       "      <th>passengers</th>\n",
       "      <th>underperforming</th>\n",
       "    </tr>\n",
       "  </thead>\n",
       "  <tbody>\n",
       "    <tr>\n",
       "      <th>0</th>\n",
       "      <td>1949</td>\n",
       "      <td>January</td>\n",
       "      <td>112</td>\n",
       "      <td>0</td>\n",
       "    </tr>\n",
       "    <tr>\n",
       "      <th>1</th>\n",
       "      <td>1949</td>\n",
       "      <td>February</td>\n",
       "      <td>118</td>\n",
       "      <td>0</td>\n",
       "    </tr>\n",
       "    <tr>\n",
       "      <th>2</th>\n",
       "      <td>1949</td>\n",
       "      <td>March</td>\n",
       "      <td>132</td>\n",
       "      <td>0</td>\n",
       "    </tr>\n",
       "    <tr>\n",
       "      <th>3</th>\n",
       "      <td>1949</td>\n",
       "      <td>April</td>\n",
       "      <td>129</td>\n",
       "      <td>0</td>\n",
       "    </tr>\n",
       "    <tr>\n",
       "      <th>4</th>\n",
       "      <td>1949</td>\n",
       "      <td>May</td>\n",
       "      <td>121</td>\n",
       "      <td>0</td>\n",
       "    </tr>\n",
       "  </tbody>\n",
       "</table>\n",
       "</div>"
      ],
      "text/plain": [
       "   year     month  passengers  underperforming\n",
       "0  1949   January         112                0\n",
       "1  1949  February         118                0\n",
       "2  1949     March         132                0\n",
       "3  1949     April         129                0\n",
       "4  1949       May         121                0"
      ]
     },
     "execution_count": 11,
     "metadata": {},
     "output_type": "execute_result"
    }
   ],
   "source": [
    "df['underperforming'] = 0\n",
    "df.head()"
   ]
  },
  {
   "cell_type": "code",
   "execution_count": 12,
   "metadata": {},
   "outputs": [
    {
     "name": "stderr",
     "output_type": "stream",
     "text": [
      "/anaconda2/lib/python2.7/site-packages/ipykernel_launcher.py:3: FutureWarning: set_value is deprecated and will be removed in a future release. Please use .at[] or .iat[] accessors instead\n",
      "  This is separate from the ipykernel package so we can avoid doing imports until\n"
     ]
    }
   ],
   "source": [
    "for indice,fila in df.iterrows():\n",
    "    if fila['passengers'] < media:\n",
    "        df.set_value(indice,'underperforming',1)"
   ]
  },
  {
   "cell_type": "code",
   "execution_count": 16,
   "metadata": {},
   "outputs": [
    {
     "data": {
      "text/plain": [
       "1    80\n",
       "0    64\n",
       "Name: underperforming, dtype: int64"
      ]
     },
     "execution_count": 16,
     "metadata": {},
     "output_type": "execute_result"
    }
   ],
   "source": [
    "df['underperforming'].value_counts()"
   ]
  },
  {
   "cell_type": "code",
   "execution_count": 19,
   "metadata": {},
   "outputs": [],
   "source": [
    "#len(df[df['underperforming'] == 1]['month']) # 80"
   ]
  },
  {
   "cell_type": "markdown",
   "metadata": {},
   "source": [
    "# Desafio 6"
   ]
  },
  {
   "cell_type": "code",
   "execution_count": 23,
   "metadata": {},
   "outputs": [
    {
     "data": {
      "text/plain": [
       "(280.2986111111111, 119.96631694294321)"
      ]
     },
     "execution_count": 23,
     "metadata": {},
     "output_type": "execute_result"
    }
   ],
   "source": [
    "media = df['passengers'].mean()\n",
    "desv_std = df['passengers'].std()\n",
    "\n",
    "#media, desv_std  # (280.2986111111111, 119.96631694294321)"
   ]
  },
  {
   "cell_type": "code",
   "execution_count": 24,
   "metadata": {},
   "outputs": [
    {
     "name": "stdout",
     "output_type": "stream",
     "text": [
      "0    91\n",
      "1    53\n",
      "Name: outlier, dtype: int64\n"
     ]
    },
    {
     "name": "stderr",
     "output_type": "stream",
     "text": [
      "/anaconda2/lib/python2.7/site-packages/ipykernel_launcher.py:8: FutureWarning: set_value is deprecated and will be removed in a future release. Please use .at[] or .iat[] accessors instead\n",
      "  \n",
      "/anaconda2/lib/python2.7/site-packages/ipykernel_launcher.py:10: FutureWarning: set_value is deprecated and will be removed in a future release. Please use .at[] or .iat[] accessors instead\n",
      "  # Remove the CWD from sys.path while we load stuff.\n"
     ]
    }
   ],
   "source": [
    "media = df['passengers'].mean()\n",
    "desv_std = df['passengers'].std()\n",
    "\n",
    "df['outlier'] = 0\n",
    "\n",
    "for ids, fila in df.iterrows():\n",
    "\tif fila['passengers'] < (media - desv_std):\n",
    "\t\tdf.set_value(ids,'outlier',1)\n",
    "\tif fila['passengers'] > (media + desv_std):\n",
    "\t\tdf.set_value(ids,'outlier',1)\n",
    "\n",
    "print(df['outlier'].value_counts())"
   ]
  },
  {
   "cell_type": "code",
   "execution_count": null,
   "metadata": {},
   "outputs": [],
   "source": []
  }
 ],
 "metadata": {
  "kernelspec": {
   "display_name": "Python 3",
   "language": "python",
   "name": "python3"
  },
  "language_info": {
   "codemirror_mode": {
    "name": "ipython",
    "version": 2
   },
   "file_extension": ".py",
   "mimetype": "text/x-python",
   "name": "python",
   "nbconvert_exporter": "python",
   "pygments_lexer": "ipython2",
   "version": "2.7.15"
  }
 },
 "nbformat": 4,
 "nbformat_minor": 2
}
